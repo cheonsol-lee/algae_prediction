{
 "cells": [
  {
   "cell_type": "markdown",
   "metadata": {},
   "source": [
    "# 녹조 예측 모델 데이터 기반의 유해 남조류 예측 모델링\n",
    "- 개발자 : 박상욱\n",
    "- 구간 : 4개(0,1,2,3)"
   ]
  },
  {
   "cell_type": "markdown",
   "metadata": {},
   "source": [
    "## 0. Load data"
   ]
  },
  {
   "cell_type": "code",
   "execution_count": 2,
   "metadata": {
    "id": "unbvRAetEA1c"
   },
   "outputs": [],
   "source": [
    "import pandas as pd\n",
    "import numpy as np\n",
    "from sklearn.model_selection import train_test_split"
   ]
  },
  {
   "cell_type": "code",
   "execution_count": 3,
   "metadata": {
    "id": "X-JnkYLuFDIJ"
   },
   "outputs": [],
   "source": [
    "df = pd.read_excel('./녹조예측모델데이터.xls', header = 2)"
   ]
  },
  {
   "cell_type": "code",
   "execution_count": 4,
   "metadata": {
    "id": "Cyw7Z6q-us5y"
   },
   "outputs": [
    {
     "data": {
      "text/html": [
       "<div>\n",
       "<style scoped>\n",
       "    .dataframe tbody tr th:only-of-type {\n",
       "        vertical-align: middle;\n",
       "    }\n",
       "\n",
       "    .dataframe tbody tr th {\n",
       "        vertical-align: top;\n",
       "    }\n",
       "\n",
       "    .dataframe thead th {\n",
       "        text-align: right;\n",
       "    }\n",
       "</style>\n",
       "<table border=\"1\" class=\"dataframe\">\n",
       "  <thead>\n",
       "    <tr style=\"text-align: right;\">\n",
       "      <th></th>\n",
       "      <th>번호</th>\n",
       "      <th>지점번호</th>\n",
       "      <th>분류</th>\n",
       "      <th>지점명</th>\n",
       "      <th>채수위치</th>\n",
       "      <th>조사일</th>\n",
       "      <th>수온(℃)</th>\n",
       "      <th>pH</th>\n",
       "      <th>DO(㎎/ℓ)</th>\n",
       "      <th>Chl-a(㎎/㎥)</th>\n",
       "      <th>최고기온</th>\n",
       "      <th>최저기온</th>\n",
       "      <th>평균강수량</th>\n",
       "      <th>유해남조류세포수(cells/㎖)</th>\n",
       "    </tr>\n",
       "  </thead>\n",
       "  <tbody>\n",
       "    <tr>\n",
       "      <th>0</th>\n",
       "      <td>NaN</td>\n",
       "      <td>NaN</td>\n",
       "      <td>NaN</td>\n",
       "      <td>NaN</td>\n",
       "      <td>NaN</td>\n",
       "      <td>NaN</td>\n",
       "      <td>NaN</td>\n",
       "      <td>NaN</td>\n",
       "      <td>NaN</td>\n",
       "      <td>NaN</td>\n",
       "      <td>NaN</td>\n",
       "      <td>NaN</td>\n",
       "      <td>NaN</td>\n",
       "      <td>NaN</td>\n",
       "    </tr>\n",
       "    <tr>\n",
       "      <th>1</th>\n",
       "      <td>NaN</td>\n",
       "      <td>NaN</td>\n",
       "      <td>NaN</td>\n",
       "      <td>NaN</td>\n",
       "      <td>NaN</td>\n",
       "      <td>NaN</td>\n",
       "      <td>NaN</td>\n",
       "      <td>NaN</td>\n",
       "      <td>NaN</td>\n",
       "      <td>NaN</td>\n",
       "      <td>NaN</td>\n",
       "      <td>NaN</td>\n",
       "      <td>NaN</td>\n",
       "      <td>NaN</td>\n",
       "    </tr>\n",
       "    <tr>\n",
       "      <th>2</th>\n",
       "      <td>1.0</td>\n",
       "      <td>1003G20</td>\n",
       "      <td>호소</td>\n",
       "      <td>충주호</td>\n",
       "      <td>청풍교</td>\n",
       "      <td>2018.07.02</td>\n",
       "      <td>23.8</td>\n",
       "      <td>7.6</td>\n",
       "      <td>6.2</td>\n",
       "      <td>10.4</td>\n",
       "      <td>26.4</td>\n",
       "      <td>19.9</td>\n",
       "      <td>37.7</td>\n",
       "      <td>20</td>\n",
       "    </tr>\n",
       "    <tr>\n",
       "      <th>3</th>\n",
       "      <td>2.0</td>\n",
       "      <td>1003G40</td>\n",
       "      <td>호소</td>\n",
       "      <td>충주호</td>\n",
       "      <td>댐앞</td>\n",
       "      <td>2018.07.02</td>\n",
       "      <td>18.7</td>\n",
       "      <td>7.9</td>\n",
       "      <td>10.2</td>\n",
       "      <td>3.3</td>\n",
       "      <td>26.4</td>\n",
       "      <td>19.9</td>\n",
       "      <td>37.7</td>\n",
       "      <td>0</td>\n",
       "    </tr>\n",
       "    <tr>\n",
       "      <th>4</th>\n",
       "      <td>3.0</td>\n",
       "      <td>3008G30</td>\n",
       "      <td>호소</td>\n",
       "      <td>대청호</td>\n",
       "      <td>회남</td>\n",
       "      <td>2018.07.02</td>\n",
       "      <td>16.1</td>\n",
       "      <td>7.8</td>\n",
       "      <td>5.3</td>\n",
       "      <td>6.7</td>\n",
       "      <td>25.8</td>\n",
       "      <td>20.7</td>\n",
       "      <td>54.1</td>\n",
       "      <td>398</td>\n",
       "    </tr>\n",
       "  </tbody>\n",
       "</table>\n",
       "</div>"
      ],
      "text/plain": [
       "    번호     지점번호   분류  지점명 채수위치         조사일  수온(℃)   pH  DO(㎎/ℓ)  Chl-a(㎎/㎥)  \\\n",
       "0  NaN      NaN  NaN  NaN  NaN         NaN    NaN  NaN      NaN         NaN   \n",
       "1  NaN      NaN  NaN  NaN  NaN         NaN    NaN  NaN      NaN         NaN   \n",
       "2  1.0  1003G20   호소  충주호  청풍교  2018.07.02   23.8  7.6      6.2        10.4   \n",
       "3  2.0  1003G40   호소  충주호   댐앞  2018.07.02   18.7  7.9     10.2         3.3   \n",
       "4  3.0  3008G30   호소  대청호   회남  2018.07.02   16.1  7.8      5.3         6.7   \n",
       "\n",
       "   최고기온  최저기온  평균강수량 유해남조류세포수(cells/㎖)  \n",
       "0   NaN   NaN    NaN               NaN  \n",
       "1   NaN   NaN    NaN               NaN  \n",
       "2  26.4  19.9   37.7                20  \n",
       "3  26.4  19.9   37.7                 0  \n",
       "4  25.8  20.7   54.1               398  "
      ]
     },
     "execution_count": 4,
     "metadata": {},
     "output_type": "execute_result"
    }
   ],
   "source": [
    "df.head()"
   ]
  },
  {
   "cell_type": "code",
   "execution_count": 5,
   "metadata": {
    "colab": {
     "base_uri": "https://localhost:8080/",
     "height": 306
    },
    "id": "47_5ovxTG3Np",
    "outputId": "657fc40e-eccd-4fe2-bef2-6a5566eb960f"
   },
   "outputs": [],
   "source": [
    "df = df.drop([0, 1])"
   ]
  },
  {
   "cell_type": "code",
   "execution_count": 6,
   "metadata": {},
   "outputs": [
    {
     "data": {
      "text/html": [
       "<div>\n",
       "<style scoped>\n",
       "    .dataframe tbody tr th:only-of-type {\n",
       "        vertical-align: middle;\n",
       "    }\n",
       "\n",
       "    .dataframe tbody tr th {\n",
       "        vertical-align: top;\n",
       "    }\n",
       "\n",
       "    .dataframe thead th {\n",
       "        text-align: right;\n",
       "    }\n",
       "</style>\n",
       "<table border=\"1\" class=\"dataframe\">\n",
       "  <thead>\n",
       "    <tr style=\"text-align: right;\">\n",
       "      <th></th>\n",
       "      <th>번호</th>\n",
       "      <th>지점번호</th>\n",
       "      <th>분류</th>\n",
       "      <th>지점명</th>\n",
       "      <th>채수위치</th>\n",
       "      <th>조사일</th>\n",
       "      <th>수온(℃)</th>\n",
       "      <th>pH</th>\n",
       "      <th>DO(㎎/ℓ)</th>\n",
       "      <th>Chl-a(㎎/㎥)</th>\n",
       "      <th>최고기온</th>\n",
       "      <th>최저기온</th>\n",
       "      <th>평균강수량</th>\n",
       "      <th>유해남조류세포수(cells/㎖)</th>\n",
       "    </tr>\n",
       "  </thead>\n",
       "  <tbody>\n",
       "    <tr>\n",
       "      <th>2</th>\n",
       "      <td>1.0</td>\n",
       "      <td>1003G20</td>\n",
       "      <td>호소</td>\n",
       "      <td>충주호</td>\n",
       "      <td>청풍교</td>\n",
       "      <td>2018.07.02</td>\n",
       "      <td>23.8</td>\n",
       "      <td>7.6</td>\n",
       "      <td>6.2</td>\n",
       "      <td>10.4</td>\n",
       "      <td>26.4</td>\n",
       "      <td>19.9</td>\n",
       "      <td>37.7</td>\n",
       "      <td>20</td>\n",
       "    </tr>\n",
       "    <tr>\n",
       "      <th>3</th>\n",
       "      <td>2.0</td>\n",
       "      <td>1003G40</td>\n",
       "      <td>호소</td>\n",
       "      <td>충주호</td>\n",
       "      <td>댐앞</td>\n",
       "      <td>2018.07.02</td>\n",
       "      <td>18.7</td>\n",
       "      <td>7.9</td>\n",
       "      <td>10.2</td>\n",
       "      <td>3.3</td>\n",
       "      <td>26.4</td>\n",
       "      <td>19.9</td>\n",
       "      <td>37.7</td>\n",
       "      <td>0</td>\n",
       "    </tr>\n",
       "    <tr>\n",
       "      <th>4</th>\n",
       "      <td>3.0</td>\n",
       "      <td>3008G30</td>\n",
       "      <td>호소</td>\n",
       "      <td>대청호</td>\n",
       "      <td>회남</td>\n",
       "      <td>2018.07.02</td>\n",
       "      <td>16.1</td>\n",
       "      <td>7.8</td>\n",
       "      <td>5.3</td>\n",
       "      <td>6.7</td>\n",
       "      <td>25.8</td>\n",
       "      <td>20.7</td>\n",
       "      <td>54.1</td>\n",
       "      <td>398</td>\n",
       "    </tr>\n",
       "    <tr>\n",
       "      <th>5</th>\n",
       "      <td>4.0</td>\n",
       "      <td>3008G50</td>\n",
       "      <td>호소</td>\n",
       "      <td>대청호</td>\n",
       "      <td>문의</td>\n",
       "      <td>2018.07.02</td>\n",
       "      <td>23.7</td>\n",
       "      <td>8.9</td>\n",
       "      <td>12.1</td>\n",
       "      <td>9.6</td>\n",
       "      <td>25.8</td>\n",
       "      <td>20.7</td>\n",
       "      <td>54.1</td>\n",
       "      <td>840</td>\n",
       "    </tr>\n",
       "    <tr>\n",
       "      <th>6</th>\n",
       "      <td>5.0</td>\n",
       "      <td>3203G20</td>\n",
       "      <td>호소</td>\n",
       "      <td>보령호</td>\n",
       "      <td>취수탑</td>\n",
       "      <td>2018.07.03</td>\n",
       "      <td>18.2</td>\n",
       "      <td>7.4</td>\n",
       "      <td>5.9</td>\n",
       "      <td>5.0</td>\n",
       "      <td>31.5</td>\n",
       "      <td>23.1</td>\n",
       "      <td>0.0</td>\n",
       "      <td>876</td>\n",
       "    </tr>\n",
       "  </tbody>\n",
       "</table>\n",
       "</div>"
      ],
      "text/plain": [
       "    번호     지점번호  분류  지점명 채수위치         조사일  수온(℃)   pH  DO(㎎/ℓ)  Chl-a(㎎/㎥)  \\\n",
       "2  1.0  1003G20  호소  충주호  청풍교  2018.07.02   23.8  7.6      6.2        10.4   \n",
       "3  2.0  1003G40  호소  충주호   댐앞  2018.07.02   18.7  7.9     10.2         3.3   \n",
       "4  3.0  3008G30  호소  대청호   회남  2018.07.02   16.1  7.8      5.3         6.7   \n",
       "5  4.0  3008G50  호소  대청호   문의  2018.07.02   23.7  8.9     12.1         9.6   \n",
       "6  5.0  3203G20  호소  보령호  취수탑  2018.07.03   18.2  7.4      5.9         5.0   \n",
       "\n",
       "   최고기온  최저기온  평균강수량 유해남조류세포수(cells/㎖)  \n",
       "2  26.4  19.9   37.7                20  \n",
       "3  26.4  19.9   37.7                 0  \n",
       "4  25.8  20.7   54.1               398  \n",
       "5  25.8  20.7   54.1               840  \n",
       "6  31.5  23.1    0.0               876  "
      ]
     },
     "execution_count": 6,
     "metadata": {},
     "output_type": "execute_result"
    }
   ],
   "source": [
    "df.head()"
   ]
  },
  {
   "cell_type": "code",
   "execution_count": 7,
   "metadata": {},
   "outputs": [
    {
     "name": "stdout",
     "output_type": "stream",
     "text": [
      "<class 'pandas.core.frame.DataFrame'>\n",
      "Int64Index: 4455 entries, 2 to 4456\n",
      "Data columns (total 14 columns):\n",
      " #   Column             Non-Null Count  Dtype  \n",
      "---  ------             --------------  -----  \n",
      " 0   번호                 4455 non-null   float64\n",
      " 1   지점번호               4455 non-null   object \n",
      " 2   분류                 4455 non-null   object \n",
      " 3   지점명                4455 non-null   object \n",
      " 4   채수위치               4455 non-null   object \n",
      " 5   조사일                4455 non-null   object \n",
      " 6   수온(℃)              4455 non-null   float64\n",
      " 7   pH                 4455 non-null   float64\n",
      " 8   DO(㎎/ℓ)            4455 non-null   float64\n",
      " 9   Chl-a(㎎/㎥)         4453 non-null   float64\n",
      " 10  최고기온               4455 non-null   float64\n",
      " 11  최저기온               4455 non-null   float64\n",
      " 12  평균강수량              4455 non-null   float64\n",
      " 13  유해남조류세포수(cells/㎖)  4454 non-null   object \n",
      "dtypes: float64(8), object(6)\n",
      "memory usage: 522.1+ KB\n"
     ]
    }
   ],
   "source": [
    "df.info()"
   ]
  },
  {
   "cell_type": "code",
   "execution_count": 54,
   "metadata": {
    "colab": {
     "base_uri": "https://localhost:8080/",
     "height": 483
    },
    "id": "jS_FwSQiIywt",
    "outputId": "686369b9-ed8f-435d-cc39-c855bf533931"
   },
   "outputs": [
    {
     "data": {
      "text/html": [
       "<div>\n",
       "<style scoped>\n",
       "    .dataframe tbody tr th:only-of-type {\n",
       "        vertical-align: middle;\n",
       "    }\n",
       "\n",
       "    .dataframe tbody tr th {\n",
       "        vertical-align: top;\n",
       "    }\n",
       "\n",
       "    .dataframe thead th {\n",
       "        text-align: right;\n",
       "    }\n",
       "</style>\n",
       "<table border=\"1\" class=\"dataframe\">\n",
       "  <thead>\n",
       "    <tr style=\"text-align: right;\">\n",
       "      <th></th>\n",
       "      <th>count</th>\n",
       "      <th>mean</th>\n",
       "      <th>std</th>\n",
       "      <th>min</th>\n",
       "      <th>25%</th>\n",
       "      <th>50%</th>\n",
       "      <th>75%</th>\n",
       "      <th>max</th>\n",
       "    </tr>\n",
       "  </thead>\n",
       "  <tbody>\n",
       "    <tr>\n",
       "      <th>번호</th>\n",
       "      <td>4455.0</td>\n",
       "      <td>2229.464198</td>\n",
       "      <td>1287.973826</td>\n",
       "      <td>1.0</td>\n",
       "      <td>1114.5</td>\n",
       "      <td>2228.0</td>\n",
       "      <td>3344.5</td>\n",
       "      <td>4460.0</td>\n",
       "    </tr>\n",
       "    <tr>\n",
       "      <th>수온(℃)</th>\n",
       "      <td>4455.0</td>\n",
       "      <td>15.832615</td>\n",
       "      <td>7.433757</td>\n",
       "      <td>1.4</td>\n",
       "      <td>9.2</td>\n",
       "      <td>16.2</td>\n",
       "      <td>22.0</td>\n",
       "      <td>32.5</td>\n",
       "    </tr>\n",
       "    <tr>\n",
       "      <th>pH</th>\n",
       "      <td>4455.0</td>\n",
       "      <td>7.905993</td>\n",
       "      <td>0.578924</td>\n",
       "      <td>6.0</td>\n",
       "      <td>7.5</td>\n",
       "      <td>7.9</td>\n",
       "      <td>8.3</td>\n",
       "      <td>10.0</td>\n",
       "    </tr>\n",
       "    <tr>\n",
       "      <th>DO(㎎/ℓ)</th>\n",
       "      <td>4455.0</td>\n",
       "      <td>10.015982</td>\n",
       "      <td>2.511750</td>\n",
       "      <td>1.6</td>\n",
       "      <td>8.2</td>\n",
       "      <td>9.9</td>\n",
       "      <td>11.9</td>\n",
       "      <td>18.4</td>\n",
       "    </tr>\n",
       "    <tr>\n",
       "      <th>Chl-a(㎎/㎥)</th>\n",
       "      <td>4455.0</td>\n",
       "      <td>15.502447</td>\n",
       "      <td>21.431479</td>\n",
       "      <td>0.0</td>\n",
       "      <td>4.0</td>\n",
       "      <td>8.4</td>\n",
       "      <td>19.1</td>\n",
       "      <td>265.1</td>\n",
       "    </tr>\n",
       "    <tr>\n",
       "      <th>최고기온</th>\n",
       "      <td>4455.0</td>\n",
       "      <td>20.469226</td>\n",
       "      <td>9.070435</td>\n",
       "      <td>-4.6</td>\n",
       "      <td>13.3</td>\n",
       "      <td>20.9</td>\n",
       "      <td>27.7</td>\n",
       "      <td>39.8</td>\n",
       "    </tr>\n",
       "    <tr>\n",
       "      <th>최저기온</th>\n",
       "      <td>4455.0</td>\n",
       "      <td>9.286891</td>\n",
       "      <td>9.768294</td>\n",
       "      <td>-15.9</td>\n",
       "      <td>1.1</td>\n",
       "      <td>8.4</td>\n",
       "      <td>18.2</td>\n",
       "      <td>28.0</td>\n",
       "    </tr>\n",
       "    <tr>\n",
       "      <th>평균강수량</th>\n",
       "      <td>4455.0</td>\n",
       "      <td>3.042222</td>\n",
       "      <td>10.899072</td>\n",
       "      <td>0.0</td>\n",
       "      <td>0.0</td>\n",
       "      <td>0.0</td>\n",
       "      <td>0.1</td>\n",
       "      <td>151.6</td>\n",
       "    </tr>\n",
       "  </tbody>\n",
       "</table>\n",
       "</div>"
      ],
      "text/plain": [
       "             count         mean          std   min     25%     50%     75%  \\\n",
       "번호          4455.0  2229.464198  1287.973826   1.0  1114.5  2228.0  3344.5   \n",
       "수온(℃)       4455.0    15.832615     7.433757   1.4     9.2    16.2    22.0   \n",
       "pH          4455.0     7.905993     0.578924   6.0     7.5     7.9     8.3   \n",
       "DO(㎎/ℓ)     4455.0    10.015982     2.511750   1.6     8.2     9.9    11.9   \n",
       "Chl-a(㎎/㎥)  4455.0    15.502447    21.431479   0.0     4.0     8.4    19.1   \n",
       "최고기온        4455.0    20.469226     9.070435  -4.6    13.3    20.9    27.7   \n",
       "최저기온        4455.0     9.286891     9.768294 -15.9     1.1     8.4    18.2   \n",
       "평균강수량       4455.0     3.042222    10.899072   0.0     0.0     0.0     0.1   \n",
       "\n",
       "               max  \n",
       "번호          4460.0  \n",
       "수온(℃)         32.5  \n",
       "pH            10.0  \n",
       "DO(㎎/ℓ)       18.4  \n",
       "Chl-a(㎎/㎥)   265.1  \n",
       "최고기온          39.8  \n",
       "최저기온          28.0  \n",
       "평균강수량        151.6  "
      ]
     },
     "execution_count": 54,
     "metadata": {},
     "output_type": "execute_result"
    }
   ],
   "source": [
    "df.describe().T"
   ]
  },
  {
   "cell_type": "markdown",
   "metadata": {},
   "source": [
    "### 1. 데이터 전처리"
   ]
  },
  {
   "cell_type": "markdown",
   "metadata": {},
   "source": [
    "#### 1-1. 결측치 확인"
   ]
  },
  {
   "cell_type": "code",
   "execution_count": 9,
   "metadata": {
    "colab": {
     "base_uri": "https://localhost:8080/"
    },
    "id": "tpcer8LoVA98",
    "outputId": "dd4b1c71-2c8b-49f8-ed7d-d7759c97f18c"
   },
   "outputs": [],
   "source": [
    "#Check the total number of missing iues\n",
    "missing_data = df.isna().sum()"
   ]
  },
  {
   "cell_type": "code",
   "execution_count": 10,
   "metadata": {},
   "outputs": [
    {
     "data": {
      "text/plain": [
       "번호                   0\n",
       "지점번호                 0\n",
       "분류                   0\n",
       "지점명                  0\n",
       "채수위치                 0\n",
       "조사일                  0\n",
       "수온(℃)                0\n",
       "pH                   0\n",
       "DO(㎎/ℓ)              0\n",
       "Chl-a(㎎/㎥)           2\n",
       "최고기온                 0\n",
       "최저기온                 0\n",
       "평균강수량                0\n",
       "유해남조류세포수(cells/㎖)    1\n",
       "dtype: int64"
      ]
     },
     "execution_count": 10,
     "metadata": {},
     "output_type": "execute_result"
    }
   ],
   "source": [
    "missing_data"
   ]
  },
  {
   "cell_type": "code",
   "execution_count": 11,
   "metadata": {
    "colab": {
     "base_uri": "https://localhost:8080/"
    },
    "id": "tpcer8LoVA98",
    "outputId": "dd4b1c71-2c8b-49f8-ed7d-d7759c97f18c"
   },
   "outputs": [
    {
     "data": {
      "text/plain": [
       "Chl-a(㎎/㎥)           2\n",
       "유해남조류세포수(cells/㎖)    1\n",
       "dtype: int64"
      ]
     },
     "execution_count": 11,
     "metadata": {},
     "output_type": "execute_result"
    }
   ],
   "source": [
    "#Keep the ones with missing iues\n",
    "missing_data = missing_data[missing_data > 0]\n",
    "missing_data"
   ]
  },
  {
   "cell_type": "code",
   "execution_count": 12,
   "metadata": {
    "id": "RqZHLvrnVc-z"
   },
   "outputs": [],
   "source": [
    "mode_fill_variables = ['Chl-a(㎎/㎥)', '유해남조류세포수(cells/㎖)']"
   ]
  },
  {
   "cell_type": "code",
   "execution_count": 13,
   "metadata": {
    "tags": []
   },
   "outputs": [
    {
     "data": {
      "text/plain": [
       "2.2"
      ]
     },
     "execution_count": 13,
     "metadata": {},
     "output_type": "execute_result"
    }
   ],
   "source": [
    "df['Chl-a(㎎/㎥)'].mode()[0]"
   ]
  },
  {
   "cell_type": "code",
   "execution_count": 14,
   "metadata": {
    "id": "RqZHLvrnVc-z"
   },
   "outputs": [
    {
     "name": "stdout",
     "output_type": "stream",
     "text": [
      "Chl-a(㎎/㎥)\n",
      "2.2\n",
      "유해남조류세포수(cells/㎖)\n",
      "0\n"
     ]
    }
   ],
   "source": [
    "for var in mode_fill_variables: \n",
    "    print(var)\n",
    "    x = df[var]\n",
    "    mode_i = x.mode()[0]\n",
    "    \n",
    "    print(mode_i)\n",
    "    df[var] = x.fillna(mode_i)"
   ]
  },
  {
   "cell_type": "code",
   "execution_count": 15,
   "metadata": {},
   "outputs": [
    {
     "name": "stdout",
     "output_type": "stream",
     "text": [
      "<class 'pandas.core.frame.DataFrame'>\n",
      "Int64Index: 4455 entries, 2 to 4456\n",
      "Data columns (total 14 columns):\n",
      " #   Column             Non-Null Count  Dtype  \n",
      "---  ------             --------------  -----  \n",
      " 0   번호                 4455 non-null   float64\n",
      " 1   지점번호               4455 non-null   object \n",
      " 2   분류                 4455 non-null   object \n",
      " 3   지점명                4455 non-null   object \n",
      " 4   채수위치               4455 non-null   object \n",
      " 5   조사일                4455 non-null   object \n",
      " 6   수온(℃)              4455 non-null   float64\n",
      " 7   pH                 4455 non-null   float64\n",
      " 8   DO(㎎/ℓ)            4455 non-null   float64\n",
      " 9   Chl-a(㎎/㎥)         4455 non-null   float64\n",
      " 10  최고기온               4455 non-null   float64\n",
      " 11  최저기온               4455 non-null   float64\n",
      " 12  평균강수량              4455 non-null   float64\n",
      " 13  유해남조류세포수(cells/㎖)  4455 non-null   object \n",
      "dtypes: float64(8), object(6)\n",
      "memory usage: 522.1+ KB\n"
     ]
    }
   ],
   "source": [
    "df.info()"
   ]
  },
  {
   "cell_type": "code",
   "execution_count": 16,
   "metadata": {
    "colab": {
     "base_uri": "https://localhost:8080/"
    },
    "id": "dbVXW7_BV3Ho",
    "outputId": "64f90983-f8a5-40dc-ae29-65675ed30fc0"
   },
   "outputs": [
    {
     "data": {
      "text/plain": [
       "번호                   0\n",
       "지점번호                 0\n",
       "분류                   0\n",
       "지점명                  0\n",
       "채수위치                 0\n",
       "조사일                  0\n",
       "수온(℃)                0\n",
       "pH                   0\n",
       "DO(㎎/ℓ)              0\n",
       "Chl-a(㎎/㎥)           0\n",
       "최고기온                 0\n",
       "최저기온                 0\n",
       "평균강수량                0\n",
       "유해남조류세포수(cells/㎖)    0\n",
       "dtype: int64"
      ]
     },
     "execution_count": 16,
     "metadata": {},
     "output_type": "execute_result"
    }
   ],
   "source": [
    "#Check the total number of missing iues\n",
    "missing_data = df.isna().sum()\n",
    "missing_data"
   ]
  },
  {
   "cell_type": "code",
   "execution_count": 17,
   "metadata": {
    "colab": {
     "base_uri": "https://localhost:8080/"
    },
    "id": "dbVXW7_BV3Ho",
    "outputId": "64f90983-f8a5-40dc-ae29-65675ed30fc0"
   },
   "outputs": [
    {
     "data": {
      "text/plain": [
       "Series([], dtype: int64)"
      ]
     },
     "execution_count": 17,
     "metadata": {},
     "output_type": "execute_result"
    }
   ],
   "source": [
    "#Keep the ones with missing iues\n",
    "missing_data = missing_data[missing_data > 0]\n",
    "missing_data"
   ]
  },
  {
   "cell_type": "code",
   "execution_count": 18,
   "metadata": {
    "id": "vlcqcQr2nR-6"
   },
   "outputs": [],
   "source": [
    "dataf = df.copy()"
   ]
  },
  {
   "cell_type": "code",
   "execution_count": 19,
   "metadata": {},
   "outputs": [],
   "source": [
    "df2 = df.copy()"
   ]
  },
  {
   "cell_type": "markdown",
   "metadata": {
    "id": "7XGsoNi4MURe"
   },
   "source": [
    "#### 1-2. 계절 변수 추가\n",
    "##### Season Variable\n",
    "- Spring : 0 (3-5)\n",
    "- Summer : 1 (6-8)\n",
    "- Fall : 2 (9-11)\n",
    "- Winter : 3 (12-2)"
   ]
  },
  {
   "cell_type": "code",
   "execution_count": 20,
   "metadata": {},
   "outputs": [],
   "source": [
    "df2['date'] = pd.to_datetime(df['조사일'])"
   ]
  },
  {
   "cell_type": "code",
   "execution_count": 21,
   "metadata": {},
   "outputs": [],
   "source": [
    "df2['month'] = df2['date'].dt.month\n",
    "df2['year'] = df2['date'].dt.year"
   ]
  },
  {
   "cell_type": "code",
   "execution_count": 22,
   "metadata": {},
   "outputs": [
    {
     "data": {
      "text/html": [
       "<div>\n",
       "<style scoped>\n",
       "    .dataframe tbody tr th:only-of-type {\n",
       "        vertical-align: middle;\n",
       "    }\n",
       "\n",
       "    .dataframe tbody tr th {\n",
       "        vertical-align: top;\n",
       "    }\n",
       "\n",
       "    .dataframe thead th {\n",
       "        text-align: right;\n",
       "    }\n",
       "</style>\n",
       "<table border=\"1\" class=\"dataframe\">\n",
       "  <thead>\n",
       "    <tr style=\"text-align: right;\">\n",
       "      <th></th>\n",
       "      <th>번호</th>\n",
       "      <th>지점번호</th>\n",
       "      <th>분류</th>\n",
       "      <th>지점명</th>\n",
       "      <th>채수위치</th>\n",
       "      <th>조사일</th>\n",
       "      <th>수온(℃)</th>\n",
       "      <th>pH</th>\n",
       "      <th>DO(㎎/ℓ)</th>\n",
       "      <th>Chl-a(㎎/㎥)</th>\n",
       "      <th>최고기온</th>\n",
       "      <th>최저기온</th>\n",
       "      <th>평균강수량</th>\n",
       "      <th>유해남조류세포수(cells/㎖)</th>\n",
       "      <th>date</th>\n",
       "      <th>month</th>\n",
       "      <th>year</th>\n",
       "    </tr>\n",
       "  </thead>\n",
       "  <tbody>\n",
       "    <tr>\n",
       "      <th>2</th>\n",
       "      <td>1.0</td>\n",
       "      <td>1003G20</td>\n",
       "      <td>호소</td>\n",
       "      <td>충주호</td>\n",
       "      <td>청풍교</td>\n",
       "      <td>2018.07.02</td>\n",
       "      <td>23.8</td>\n",
       "      <td>7.6</td>\n",
       "      <td>6.2</td>\n",
       "      <td>10.4</td>\n",
       "      <td>26.4</td>\n",
       "      <td>19.9</td>\n",
       "      <td>37.7</td>\n",
       "      <td>20</td>\n",
       "      <td>2018-07-02</td>\n",
       "      <td>7</td>\n",
       "      <td>2018</td>\n",
       "    </tr>\n",
       "    <tr>\n",
       "      <th>3</th>\n",
       "      <td>2.0</td>\n",
       "      <td>1003G40</td>\n",
       "      <td>호소</td>\n",
       "      <td>충주호</td>\n",
       "      <td>댐앞</td>\n",
       "      <td>2018.07.02</td>\n",
       "      <td>18.7</td>\n",
       "      <td>7.9</td>\n",
       "      <td>10.2</td>\n",
       "      <td>3.3</td>\n",
       "      <td>26.4</td>\n",
       "      <td>19.9</td>\n",
       "      <td>37.7</td>\n",
       "      <td>0</td>\n",
       "      <td>2018-07-02</td>\n",
       "      <td>7</td>\n",
       "      <td>2018</td>\n",
       "    </tr>\n",
       "    <tr>\n",
       "      <th>4</th>\n",
       "      <td>3.0</td>\n",
       "      <td>3008G30</td>\n",
       "      <td>호소</td>\n",
       "      <td>대청호</td>\n",
       "      <td>회남</td>\n",
       "      <td>2018.07.02</td>\n",
       "      <td>16.1</td>\n",
       "      <td>7.8</td>\n",
       "      <td>5.3</td>\n",
       "      <td>6.7</td>\n",
       "      <td>25.8</td>\n",
       "      <td>20.7</td>\n",
       "      <td>54.1</td>\n",
       "      <td>398</td>\n",
       "      <td>2018-07-02</td>\n",
       "      <td>7</td>\n",
       "      <td>2018</td>\n",
       "    </tr>\n",
       "    <tr>\n",
       "      <th>5</th>\n",
       "      <td>4.0</td>\n",
       "      <td>3008G50</td>\n",
       "      <td>호소</td>\n",
       "      <td>대청호</td>\n",
       "      <td>문의</td>\n",
       "      <td>2018.07.02</td>\n",
       "      <td>23.7</td>\n",
       "      <td>8.9</td>\n",
       "      <td>12.1</td>\n",
       "      <td>9.6</td>\n",
       "      <td>25.8</td>\n",
       "      <td>20.7</td>\n",
       "      <td>54.1</td>\n",
       "      <td>840</td>\n",
       "      <td>2018-07-02</td>\n",
       "      <td>7</td>\n",
       "      <td>2018</td>\n",
       "    </tr>\n",
       "    <tr>\n",
       "      <th>6</th>\n",
       "      <td>5.0</td>\n",
       "      <td>3203G20</td>\n",
       "      <td>호소</td>\n",
       "      <td>보령호</td>\n",
       "      <td>취수탑</td>\n",
       "      <td>2018.07.03</td>\n",
       "      <td>18.2</td>\n",
       "      <td>7.4</td>\n",
       "      <td>5.9</td>\n",
       "      <td>5.0</td>\n",
       "      <td>31.5</td>\n",
       "      <td>23.1</td>\n",
       "      <td>0.0</td>\n",
       "      <td>876</td>\n",
       "      <td>2018-07-03</td>\n",
       "      <td>7</td>\n",
       "      <td>2018</td>\n",
       "    </tr>\n",
       "  </tbody>\n",
       "</table>\n",
       "</div>"
      ],
      "text/plain": [
       "    번호     지점번호  분류  지점명 채수위치         조사일  수온(℃)   pH  DO(㎎/ℓ)  Chl-a(㎎/㎥)  \\\n",
       "2  1.0  1003G20  호소  충주호  청풍교  2018.07.02   23.8  7.6      6.2        10.4   \n",
       "3  2.0  1003G40  호소  충주호   댐앞  2018.07.02   18.7  7.9     10.2         3.3   \n",
       "4  3.0  3008G30  호소  대청호   회남  2018.07.02   16.1  7.8      5.3         6.7   \n",
       "5  4.0  3008G50  호소  대청호   문의  2018.07.02   23.7  8.9     12.1         9.6   \n",
       "6  5.0  3203G20  호소  보령호  취수탑  2018.07.03   18.2  7.4      5.9         5.0   \n",
       "\n",
       "   최고기온  최저기온  평균강수량 유해남조류세포수(cells/㎖)       date  month  year  \n",
       "2  26.4  19.9   37.7                20 2018-07-02      7  2018  \n",
       "3  26.4  19.9   37.7                 0 2018-07-02      7  2018  \n",
       "4  25.8  20.7   54.1               398 2018-07-02      7  2018  \n",
       "5  25.8  20.7   54.1               840 2018-07-02      7  2018  \n",
       "6  31.5  23.1    0.0               876 2018-07-03      7  2018  "
      ]
     },
     "execution_count": 22,
     "metadata": {},
     "output_type": "execute_result"
    }
   ],
   "source": [
    "df2.head()"
   ]
  },
  {
   "cell_type": "code",
   "execution_count": 23,
   "metadata": {},
   "outputs": [],
   "source": [
    "month = []\n",
    "year = []\n",
    "\n",
    "for num in range(0, len(df2)):\n",
    "    m = df2.iloc[num]['month']\n",
    "    y = df2.iloc[num]['year']\n",
    "    \n",
    "    if 3<=m<=5:\n",
    "        month.append(0)\n",
    "    if 6<=m<=8:\n",
    "        month.append(1)\n",
    "    if 9<=m<=11:\n",
    "        month.append(2)\n",
    "    if m==12 or 1<=m<=2:\n",
    "        month.append(3)\n",
    "        \n",
    "    if y == 2018: year.append(0)\n",
    "    if y == 2019: year.append(1)\n",
    "    if y == 2020: year.append(2)\n",
    "    if y == 2021: year.append(3)"
   ]
  },
  {
   "cell_type": "code",
   "execution_count": 24,
   "metadata": {},
   "outputs": [],
   "source": [
    "def print_clustering(val, name):\n",
    "    print(f\"[{name}]\")\n",
    "    for num in range(0,4):\n",
    "        print(f\"{num} : {val.count(num)}\")"
   ]
  },
  {
   "cell_type": "code",
   "execution_count": 25,
   "metadata": {
    "tags": []
   },
   "outputs": [
    {
     "name": "stdout",
     "output_type": "stream",
     "text": [
      "[month]\n",
      "0 : 1152\n",
      "1 : 1237\n",
      "2 : 1124\n",
      "3 : 942\n"
     ]
    }
   ],
   "source": [
    "print_clustering(month, \"month\")"
   ]
  },
  {
   "cell_type": "code",
   "execution_count": 26,
   "metadata": {},
   "outputs": [
    {
     "name": "stdout",
     "output_type": "stream",
     "text": [
      "[year]\n",
      "0 : 776\n",
      "1 : 1488\n",
      "2 : 1447\n",
      "3 : 744\n"
     ]
    }
   ],
   "source": [
    "print_clustering(year, \"year\")"
   ]
  },
  {
   "cell_type": "markdown",
   "metadata": {
    "id": "WFPvY0FDYneJ"
   },
   "source": [
    "#### 1-3. 예측 모델 결과 변수 추가\n",
    "##### 유해남조류 세포수 구분\n",
    "- 0 (0)\n",
    "- 0 - 1000 (1)\n",
    "- 1000 - 10k (2)\n",
    "- 10k+ (3)"
   ]
  },
  {
   "cell_type": "code",
   "execution_count": 27,
   "metadata": {
    "id": "ph_aGg7WHjW3"
   },
   "outputs": [],
   "source": [
    "result =[]\n",
    "for val in df['유해남조류세포수(cells/㎖)']:\n",
    "    #clean the string and convert to double\n",
    "    val = float(val.replace(',',''))\n",
    "    if val == 0.0: result.append(0)\n",
    "    elif val <= 1000.0: result.append(1)\n",
    "    elif val < 10000.0: result.append(2)\n",
    "    else: result.append(3)"
   ]
  },
  {
   "cell_type": "code",
   "execution_count": 28,
   "metadata": {},
   "outputs": [
    {
     "name": "stdout",
     "output_type": "stream",
     "text": [
      "[result]\n",
      "0 : 2251\n",
      "1 : 1503\n",
      "2 : 477\n",
      "3 : 224\n"
     ]
    }
   ],
   "source": [
    "print_clustering(result, \"result\")"
   ]
  },
  {
   "cell_type": "code",
   "execution_count": 29,
   "metadata": {},
   "outputs": [],
   "source": [
    "del_list = ['month', 'year', 'date', '유해남조류세포수(cells/㎖)', '조사일','지점번호']\n",
    "df2 = df2.drop(columns = del_list)\n",
    "\n",
    "df2['month'] = month\n",
    "df2['year'] = year\n",
    "df2['result'] = result"
   ]
  },
  {
   "cell_type": "code",
   "execution_count": 30,
   "metadata": {},
   "outputs": [
    {
     "data": {
      "text/html": [
       "<div>\n",
       "<style scoped>\n",
       "    .dataframe tbody tr th:only-of-type {\n",
       "        vertical-align: middle;\n",
       "    }\n",
       "\n",
       "    .dataframe tbody tr th {\n",
       "        vertical-align: top;\n",
       "    }\n",
       "\n",
       "    .dataframe thead th {\n",
       "        text-align: right;\n",
       "    }\n",
       "</style>\n",
       "<table border=\"1\" class=\"dataframe\">\n",
       "  <thead>\n",
       "    <tr style=\"text-align: right;\">\n",
       "      <th></th>\n",
       "      <th>번호</th>\n",
       "      <th>분류</th>\n",
       "      <th>지점명</th>\n",
       "      <th>채수위치</th>\n",
       "      <th>수온(℃)</th>\n",
       "      <th>pH</th>\n",
       "      <th>DO(㎎/ℓ)</th>\n",
       "      <th>Chl-a(㎎/㎥)</th>\n",
       "      <th>최고기온</th>\n",
       "      <th>최저기온</th>\n",
       "      <th>평균강수량</th>\n",
       "      <th>month</th>\n",
       "      <th>year</th>\n",
       "      <th>result</th>\n",
       "    </tr>\n",
       "  </thead>\n",
       "  <tbody>\n",
       "    <tr>\n",
       "      <th>2</th>\n",
       "      <td>1.0</td>\n",
       "      <td>호소</td>\n",
       "      <td>충주호</td>\n",
       "      <td>청풍교</td>\n",
       "      <td>23.8</td>\n",
       "      <td>7.6</td>\n",
       "      <td>6.2</td>\n",
       "      <td>10.4</td>\n",
       "      <td>26.4</td>\n",
       "      <td>19.9</td>\n",
       "      <td>37.7</td>\n",
       "      <td>1</td>\n",
       "      <td>0</td>\n",
       "      <td>1</td>\n",
       "    </tr>\n",
       "    <tr>\n",
       "      <th>3</th>\n",
       "      <td>2.0</td>\n",
       "      <td>호소</td>\n",
       "      <td>충주호</td>\n",
       "      <td>댐앞</td>\n",
       "      <td>18.7</td>\n",
       "      <td>7.9</td>\n",
       "      <td>10.2</td>\n",
       "      <td>3.3</td>\n",
       "      <td>26.4</td>\n",
       "      <td>19.9</td>\n",
       "      <td>37.7</td>\n",
       "      <td>1</td>\n",
       "      <td>0</td>\n",
       "      <td>0</td>\n",
       "    </tr>\n",
       "    <tr>\n",
       "      <th>4</th>\n",
       "      <td>3.0</td>\n",
       "      <td>호소</td>\n",
       "      <td>대청호</td>\n",
       "      <td>회남</td>\n",
       "      <td>16.1</td>\n",
       "      <td>7.8</td>\n",
       "      <td>5.3</td>\n",
       "      <td>6.7</td>\n",
       "      <td>25.8</td>\n",
       "      <td>20.7</td>\n",
       "      <td>54.1</td>\n",
       "      <td>1</td>\n",
       "      <td>0</td>\n",
       "      <td>1</td>\n",
       "    </tr>\n",
       "    <tr>\n",
       "      <th>5</th>\n",
       "      <td>4.0</td>\n",
       "      <td>호소</td>\n",
       "      <td>대청호</td>\n",
       "      <td>문의</td>\n",
       "      <td>23.7</td>\n",
       "      <td>8.9</td>\n",
       "      <td>12.1</td>\n",
       "      <td>9.6</td>\n",
       "      <td>25.8</td>\n",
       "      <td>20.7</td>\n",
       "      <td>54.1</td>\n",
       "      <td>1</td>\n",
       "      <td>0</td>\n",
       "      <td>1</td>\n",
       "    </tr>\n",
       "    <tr>\n",
       "      <th>6</th>\n",
       "      <td>5.0</td>\n",
       "      <td>호소</td>\n",
       "      <td>보령호</td>\n",
       "      <td>취수탑</td>\n",
       "      <td>18.2</td>\n",
       "      <td>7.4</td>\n",
       "      <td>5.9</td>\n",
       "      <td>5.0</td>\n",
       "      <td>31.5</td>\n",
       "      <td>23.1</td>\n",
       "      <td>0.0</td>\n",
       "      <td>1</td>\n",
       "      <td>0</td>\n",
       "      <td>1</td>\n",
       "    </tr>\n",
       "  </tbody>\n",
       "</table>\n",
       "</div>"
      ],
      "text/plain": [
       "    번호  분류  지점명 채수위치  수온(℃)   pH  DO(㎎/ℓ)  Chl-a(㎎/㎥)  최고기온  최저기온  평균강수량  \\\n",
       "2  1.0  호소  충주호  청풍교   23.8  7.6      6.2        10.4  26.4  19.9   37.7   \n",
       "3  2.0  호소  충주호   댐앞   18.7  7.9     10.2         3.3  26.4  19.9   37.7   \n",
       "4  3.0  호소  대청호   회남   16.1  7.8      5.3         6.7  25.8  20.7   54.1   \n",
       "5  4.0  호소  대청호   문의   23.7  8.9     12.1         9.6  25.8  20.7   54.1   \n",
       "6  5.0  호소  보령호  취수탑   18.2  7.4      5.9         5.0  31.5  23.1    0.0   \n",
       "\n",
       "   month  year  result  \n",
       "2      1     0       1  \n",
       "3      1     0       0  \n",
       "4      1     0       1  \n",
       "5      1     0       1  \n",
       "6      1     0       1  "
      ]
     },
     "execution_count": 30,
     "metadata": {},
     "output_type": "execute_result"
    }
   ],
   "source": [
    "df2.head()"
   ]
  },
  {
   "cell_type": "code",
   "execution_count": 31,
   "metadata": {},
   "outputs": [],
   "source": [
    "# df2['분류'].replace({'보': 0, '호소': 1, '하천': 2}, inplace=True)"
   ]
  },
  {
   "cell_type": "code",
   "execution_count": 32,
   "metadata": {},
   "outputs": [
    {
     "data": {
      "text/html": [
       "<div>\n",
       "<style scoped>\n",
       "    .dataframe tbody tr th:only-of-type {\n",
       "        vertical-align: middle;\n",
       "    }\n",
       "\n",
       "    .dataframe tbody tr th {\n",
       "        vertical-align: top;\n",
       "    }\n",
       "\n",
       "    .dataframe thead th {\n",
       "        text-align: right;\n",
       "    }\n",
       "</style>\n",
       "<table border=\"1\" class=\"dataframe\">\n",
       "  <thead>\n",
       "    <tr style=\"text-align: right;\">\n",
       "      <th></th>\n",
       "      <th>번호</th>\n",
       "      <th>분류</th>\n",
       "      <th>지점명</th>\n",
       "      <th>채수위치</th>\n",
       "      <th>수온(℃)</th>\n",
       "      <th>pH</th>\n",
       "      <th>DO(㎎/ℓ)</th>\n",
       "      <th>Chl-a(㎎/㎥)</th>\n",
       "      <th>최고기온</th>\n",
       "      <th>최저기온</th>\n",
       "      <th>평균강수량</th>\n",
       "      <th>month</th>\n",
       "      <th>year</th>\n",
       "      <th>result</th>\n",
       "    </tr>\n",
       "  </thead>\n",
       "  <tbody>\n",
       "    <tr>\n",
       "      <th>2</th>\n",
       "      <td>1.0</td>\n",
       "      <td>호소</td>\n",
       "      <td>충주호</td>\n",
       "      <td>청풍교</td>\n",
       "      <td>23.8</td>\n",
       "      <td>7.6</td>\n",
       "      <td>6.2</td>\n",
       "      <td>10.4</td>\n",
       "      <td>26.4</td>\n",
       "      <td>19.9</td>\n",
       "      <td>37.7</td>\n",
       "      <td>1</td>\n",
       "      <td>0</td>\n",
       "      <td>1</td>\n",
       "    </tr>\n",
       "    <tr>\n",
       "      <th>3</th>\n",
       "      <td>2.0</td>\n",
       "      <td>호소</td>\n",
       "      <td>충주호</td>\n",
       "      <td>댐앞</td>\n",
       "      <td>18.7</td>\n",
       "      <td>7.9</td>\n",
       "      <td>10.2</td>\n",
       "      <td>3.3</td>\n",
       "      <td>26.4</td>\n",
       "      <td>19.9</td>\n",
       "      <td>37.7</td>\n",
       "      <td>1</td>\n",
       "      <td>0</td>\n",
       "      <td>0</td>\n",
       "    </tr>\n",
       "    <tr>\n",
       "      <th>4</th>\n",
       "      <td>3.0</td>\n",
       "      <td>호소</td>\n",
       "      <td>대청호</td>\n",
       "      <td>회남</td>\n",
       "      <td>16.1</td>\n",
       "      <td>7.8</td>\n",
       "      <td>5.3</td>\n",
       "      <td>6.7</td>\n",
       "      <td>25.8</td>\n",
       "      <td>20.7</td>\n",
       "      <td>54.1</td>\n",
       "      <td>1</td>\n",
       "      <td>0</td>\n",
       "      <td>1</td>\n",
       "    </tr>\n",
       "    <tr>\n",
       "      <th>5</th>\n",
       "      <td>4.0</td>\n",
       "      <td>호소</td>\n",
       "      <td>대청호</td>\n",
       "      <td>문의</td>\n",
       "      <td>23.7</td>\n",
       "      <td>8.9</td>\n",
       "      <td>12.1</td>\n",
       "      <td>9.6</td>\n",
       "      <td>25.8</td>\n",
       "      <td>20.7</td>\n",
       "      <td>54.1</td>\n",
       "      <td>1</td>\n",
       "      <td>0</td>\n",
       "      <td>1</td>\n",
       "    </tr>\n",
       "    <tr>\n",
       "      <th>6</th>\n",
       "      <td>5.0</td>\n",
       "      <td>호소</td>\n",
       "      <td>보령호</td>\n",
       "      <td>취수탑</td>\n",
       "      <td>18.2</td>\n",
       "      <td>7.4</td>\n",
       "      <td>5.9</td>\n",
       "      <td>5.0</td>\n",
       "      <td>31.5</td>\n",
       "      <td>23.1</td>\n",
       "      <td>0.0</td>\n",
       "      <td>1</td>\n",
       "      <td>0</td>\n",
       "      <td>1</td>\n",
       "    </tr>\n",
       "  </tbody>\n",
       "</table>\n",
       "</div>"
      ],
      "text/plain": [
       "    번호  분류  지점명 채수위치  수온(℃)   pH  DO(㎎/ℓ)  Chl-a(㎎/㎥)  최고기온  최저기온  평균강수량  \\\n",
       "2  1.0  호소  충주호  청풍교   23.8  7.6      6.2        10.4  26.4  19.9   37.7   \n",
       "3  2.0  호소  충주호   댐앞   18.7  7.9     10.2         3.3  26.4  19.9   37.7   \n",
       "4  3.0  호소  대청호   회남   16.1  7.8      5.3         6.7  25.8  20.7   54.1   \n",
       "5  4.0  호소  대청호   문의   23.7  8.9     12.1         9.6  25.8  20.7   54.1   \n",
       "6  5.0  호소  보령호  취수탑   18.2  7.4      5.9         5.0  31.5  23.1    0.0   \n",
       "\n",
       "   month  year  result  \n",
       "2      1     0       1  \n",
       "3      1     0       0  \n",
       "4      1     0       1  \n",
       "5      1     0       1  \n",
       "6      1     0       1  "
      ]
     },
     "execution_count": 32,
     "metadata": {},
     "output_type": "execute_result"
    }
   ],
   "source": [
    "df2.head()"
   ]
  },
  {
   "cell_type": "markdown",
   "metadata": {},
   "source": [
    "#### 1-4. 문자열 데이터를 수치형으로 변환\n",
    "- 분류(label_class)\n",
    "- 지점명(label_place)\n",
    "- 채수위치(label_point)"
   ]
  },
  {
   "cell_type": "code",
   "execution_count": 33,
   "metadata": {
    "id": "17GpG7QtmzA2"
   },
   "outputs": [],
   "source": [
    "from sklearn.preprocessing import LabelEncoder\n",
    "\n",
    "LE = [LabelEncoder(), LabelEncoder(), LabelEncoder()]\n",
    "string_columns =['분류', '지점명', '채수위치'] #maybe add ph later!\n",
    "\n",
    "for num, columns in enumerate(string_columns):\n",
    "    df2[columns] = LE[num].fit_transform(df2[columns]) "
   ]
  },
  {
   "cell_type": "code",
   "execution_count": 34,
   "metadata": {},
   "outputs": [
    {
     "name": "stdout",
     "output_type": "stream",
     "text": [
      "['보' '하천' '호소']\n",
      "['강정고령보' '공산지' '공주보' '구미보' '낙단보' '낙동강' '달성보' '대청호' '덕동호' '백제보' '보령호' '상주보'\n",
      " '안계호' '영천호' '운문호' '진양호' '진전지' '창녕함안보' '충주호' '칠곡보' '합천창녕보']\n",
      "['강정·고령' '강정고령보 상류500m' '공주보 상류500m' '구미보 상류500m' '낙단보 상류500m' '내동'\n",
      " '달성보 상류500m' '댐앞' '문의' '물금·매리' '백제보 상류500m' '상류' '상주보 상류500m' '중앙부'\n",
      " '창녕함안보 상류300m' '청풍교' '취수탑' '취수탑2' '칠곡보 상류500m' '칠서' '판문' '하류'\n",
      " '합천창녕보 상류500m' '해평' '회남']\n"
     ]
    }
   ],
   "source": [
    "for num in range(0, 3):\n",
    "    print(LE[num].classes_)"
   ]
  },
  {
   "cell_type": "code",
   "execution_count": 35,
   "metadata": {},
   "outputs": [],
   "source": [
    "label_class = pd.DataFrame({'분류': LE[0].classes_})\n",
    "label_place = pd.DataFrame({'지점명': LE[1].classes_})\n",
    "label_point = pd.DataFrame({'채수위치': LE[2].classes_})"
   ]
  },
  {
   "cell_type": "code",
   "execution_count": 36,
   "metadata": {
    "collapsed": true,
    "jupyter": {
     "outputs_hidden": true
    },
    "tags": []
   },
   "outputs": [
    {
     "data": {
      "text/html": [
       "<div>\n",
       "<style scoped>\n",
       "    .dataframe tbody tr th:only-of-type {\n",
       "        vertical-align: middle;\n",
       "    }\n",
       "\n",
       "    .dataframe tbody tr th {\n",
       "        vertical-align: top;\n",
       "    }\n",
       "\n",
       "    .dataframe thead th {\n",
       "        text-align: right;\n",
       "    }\n",
       "</style>\n",
       "<table border=\"1\" class=\"dataframe\">\n",
       "  <thead>\n",
       "    <tr style=\"text-align: right;\">\n",
       "      <th></th>\n",
       "      <th>분류</th>\n",
       "    </tr>\n",
       "  </thead>\n",
       "  <tbody>\n",
       "    <tr>\n",
       "      <th>0</th>\n",
       "      <td>보</td>\n",
       "    </tr>\n",
       "    <tr>\n",
       "      <th>1</th>\n",
       "      <td>하천</td>\n",
       "    </tr>\n",
       "    <tr>\n",
       "      <th>2</th>\n",
       "      <td>호소</td>\n",
       "    </tr>\n",
       "  </tbody>\n",
       "</table>\n",
       "</div>"
      ],
      "text/plain": [
       "   분류\n",
       "0   보\n",
       "1  하천\n",
       "2  호소"
      ]
     },
     "execution_count": 36,
     "metadata": {},
     "output_type": "execute_result"
    }
   ],
   "source": [
    "label_class"
   ]
  },
  {
   "cell_type": "code",
   "execution_count": 37,
   "metadata": {
    "collapsed": true,
    "jupyter": {
     "outputs_hidden": true
    },
    "tags": []
   },
   "outputs": [
    {
     "data": {
      "text/html": [
       "<div>\n",
       "<style scoped>\n",
       "    .dataframe tbody tr th:only-of-type {\n",
       "        vertical-align: middle;\n",
       "    }\n",
       "\n",
       "    .dataframe tbody tr th {\n",
       "        vertical-align: top;\n",
       "    }\n",
       "\n",
       "    .dataframe thead th {\n",
       "        text-align: right;\n",
       "    }\n",
       "</style>\n",
       "<table border=\"1\" class=\"dataframe\">\n",
       "  <thead>\n",
       "    <tr style=\"text-align: right;\">\n",
       "      <th></th>\n",
       "      <th>지점명</th>\n",
       "    </tr>\n",
       "  </thead>\n",
       "  <tbody>\n",
       "    <tr>\n",
       "      <th>0</th>\n",
       "      <td>강정고령보</td>\n",
       "    </tr>\n",
       "    <tr>\n",
       "      <th>1</th>\n",
       "      <td>공산지</td>\n",
       "    </tr>\n",
       "    <tr>\n",
       "      <th>2</th>\n",
       "      <td>공주보</td>\n",
       "    </tr>\n",
       "    <tr>\n",
       "      <th>3</th>\n",
       "      <td>구미보</td>\n",
       "    </tr>\n",
       "    <tr>\n",
       "      <th>4</th>\n",
       "      <td>낙단보</td>\n",
       "    </tr>\n",
       "    <tr>\n",
       "      <th>5</th>\n",
       "      <td>낙동강</td>\n",
       "    </tr>\n",
       "    <tr>\n",
       "      <th>6</th>\n",
       "      <td>달성보</td>\n",
       "    </tr>\n",
       "    <tr>\n",
       "      <th>7</th>\n",
       "      <td>대청호</td>\n",
       "    </tr>\n",
       "    <tr>\n",
       "      <th>8</th>\n",
       "      <td>덕동호</td>\n",
       "    </tr>\n",
       "    <tr>\n",
       "      <th>9</th>\n",
       "      <td>백제보</td>\n",
       "    </tr>\n",
       "    <tr>\n",
       "      <th>10</th>\n",
       "      <td>보령호</td>\n",
       "    </tr>\n",
       "    <tr>\n",
       "      <th>11</th>\n",
       "      <td>상주보</td>\n",
       "    </tr>\n",
       "    <tr>\n",
       "      <th>12</th>\n",
       "      <td>안계호</td>\n",
       "    </tr>\n",
       "    <tr>\n",
       "      <th>13</th>\n",
       "      <td>영천호</td>\n",
       "    </tr>\n",
       "    <tr>\n",
       "      <th>14</th>\n",
       "      <td>운문호</td>\n",
       "    </tr>\n",
       "    <tr>\n",
       "      <th>15</th>\n",
       "      <td>진양호</td>\n",
       "    </tr>\n",
       "    <tr>\n",
       "      <th>16</th>\n",
       "      <td>진전지</td>\n",
       "    </tr>\n",
       "    <tr>\n",
       "      <th>17</th>\n",
       "      <td>창녕함안보</td>\n",
       "    </tr>\n",
       "    <tr>\n",
       "      <th>18</th>\n",
       "      <td>충주호</td>\n",
       "    </tr>\n",
       "    <tr>\n",
       "      <th>19</th>\n",
       "      <td>칠곡보</td>\n",
       "    </tr>\n",
       "    <tr>\n",
       "      <th>20</th>\n",
       "      <td>합천창녕보</td>\n",
       "    </tr>\n",
       "  </tbody>\n",
       "</table>\n",
       "</div>"
      ],
      "text/plain": [
       "      지점명\n",
       "0   강정고령보\n",
       "1     공산지\n",
       "2     공주보\n",
       "3     구미보\n",
       "4     낙단보\n",
       "5     낙동강\n",
       "6     달성보\n",
       "7     대청호\n",
       "8     덕동호\n",
       "9     백제보\n",
       "10    보령호\n",
       "11    상주보\n",
       "12    안계호\n",
       "13    영천호\n",
       "14    운문호\n",
       "15    진양호\n",
       "16    진전지\n",
       "17  창녕함안보\n",
       "18    충주호\n",
       "19    칠곡보\n",
       "20  합천창녕보"
      ]
     },
     "execution_count": 37,
     "metadata": {},
     "output_type": "execute_result"
    }
   ],
   "source": [
    "label_place"
   ]
  },
  {
   "cell_type": "code",
   "execution_count": 38,
   "metadata": {
    "collapsed": true,
    "jupyter": {
     "outputs_hidden": true
    },
    "tags": []
   },
   "outputs": [
    {
     "data": {
      "text/html": [
       "<div>\n",
       "<style scoped>\n",
       "    .dataframe tbody tr th:only-of-type {\n",
       "        vertical-align: middle;\n",
       "    }\n",
       "\n",
       "    .dataframe tbody tr th {\n",
       "        vertical-align: top;\n",
       "    }\n",
       "\n",
       "    .dataframe thead th {\n",
       "        text-align: right;\n",
       "    }\n",
       "</style>\n",
       "<table border=\"1\" class=\"dataframe\">\n",
       "  <thead>\n",
       "    <tr style=\"text-align: right;\">\n",
       "      <th></th>\n",
       "      <th>채수위치</th>\n",
       "    </tr>\n",
       "  </thead>\n",
       "  <tbody>\n",
       "    <tr>\n",
       "      <th>0</th>\n",
       "      <td>강정·고령</td>\n",
       "    </tr>\n",
       "    <tr>\n",
       "      <th>1</th>\n",
       "      <td>강정고령보 상류500m</td>\n",
       "    </tr>\n",
       "    <tr>\n",
       "      <th>2</th>\n",
       "      <td>공주보 상류500m</td>\n",
       "    </tr>\n",
       "    <tr>\n",
       "      <th>3</th>\n",
       "      <td>구미보 상류500m</td>\n",
       "    </tr>\n",
       "    <tr>\n",
       "      <th>4</th>\n",
       "      <td>낙단보 상류500m</td>\n",
       "    </tr>\n",
       "    <tr>\n",
       "      <th>5</th>\n",
       "      <td>내동</td>\n",
       "    </tr>\n",
       "    <tr>\n",
       "      <th>6</th>\n",
       "      <td>달성보 상류500m</td>\n",
       "    </tr>\n",
       "    <tr>\n",
       "      <th>7</th>\n",
       "      <td>댐앞</td>\n",
       "    </tr>\n",
       "    <tr>\n",
       "      <th>8</th>\n",
       "      <td>문의</td>\n",
       "    </tr>\n",
       "    <tr>\n",
       "      <th>9</th>\n",
       "      <td>물금·매리</td>\n",
       "    </tr>\n",
       "    <tr>\n",
       "      <th>10</th>\n",
       "      <td>백제보 상류500m</td>\n",
       "    </tr>\n",
       "    <tr>\n",
       "      <th>11</th>\n",
       "      <td>상류</td>\n",
       "    </tr>\n",
       "    <tr>\n",
       "      <th>12</th>\n",
       "      <td>상주보 상류500m</td>\n",
       "    </tr>\n",
       "    <tr>\n",
       "      <th>13</th>\n",
       "      <td>중앙부</td>\n",
       "    </tr>\n",
       "    <tr>\n",
       "      <th>14</th>\n",
       "      <td>창녕함안보 상류300m</td>\n",
       "    </tr>\n",
       "    <tr>\n",
       "      <th>15</th>\n",
       "      <td>청풍교</td>\n",
       "    </tr>\n",
       "    <tr>\n",
       "      <th>16</th>\n",
       "      <td>취수탑</td>\n",
       "    </tr>\n",
       "    <tr>\n",
       "      <th>17</th>\n",
       "      <td>취수탑2</td>\n",
       "    </tr>\n",
       "    <tr>\n",
       "      <th>18</th>\n",
       "      <td>칠곡보 상류500m</td>\n",
       "    </tr>\n",
       "    <tr>\n",
       "      <th>19</th>\n",
       "      <td>칠서</td>\n",
       "    </tr>\n",
       "    <tr>\n",
       "      <th>20</th>\n",
       "      <td>판문</td>\n",
       "    </tr>\n",
       "    <tr>\n",
       "      <th>21</th>\n",
       "      <td>하류</td>\n",
       "    </tr>\n",
       "    <tr>\n",
       "      <th>22</th>\n",
       "      <td>합천창녕보 상류500m</td>\n",
       "    </tr>\n",
       "    <tr>\n",
       "      <th>23</th>\n",
       "      <td>해평</td>\n",
       "    </tr>\n",
       "    <tr>\n",
       "      <th>24</th>\n",
       "      <td>회남</td>\n",
       "    </tr>\n",
       "  </tbody>\n",
       "</table>\n",
       "</div>"
      ],
      "text/plain": [
       "            채수위치\n",
       "0          강정·고령\n",
       "1   강정고령보 상류500m\n",
       "2     공주보 상류500m\n",
       "3     구미보 상류500m\n",
       "4     낙단보 상류500m\n",
       "5             내동\n",
       "6     달성보 상류500m\n",
       "7             댐앞\n",
       "8             문의\n",
       "9          물금·매리\n",
       "10    백제보 상류500m\n",
       "11            상류\n",
       "12    상주보 상류500m\n",
       "13           중앙부\n",
       "14  창녕함안보 상류300m\n",
       "15           청풍교\n",
       "16           취수탑\n",
       "17          취수탑2\n",
       "18    칠곡보 상류500m\n",
       "19            칠서\n",
       "20            판문\n",
       "21            하류\n",
       "22  합천창녕보 상류500m\n",
       "23            해평\n",
       "24            회남"
      ]
     },
     "execution_count": 38,
     "metadata": {},
     "output_type": "execute_result"
    }
   ],
   "source": [
    "label_point"
   ]
  },
  {
   "cell_type": "markdown",
   "metadata": {},
   "source": [
    "#### 1-5. 파일 저장"
   ]
  },
  {
   "cell_type": "code",
   "execution_count": 39,
   "metadata": {},
   "outputs": [],
   "source": [
    "df2.to_csv('numerical_data.csv', encoding = 'utf-8-sig')"
   ]
  },
  {
   "cell_type": "markdown",
   "metadata": {},
   "source": [
    "### 2. 모델링"
   ]
  },
  {
   "cell_type": "code",
   "execution_count": 131,
   "metadata": {},
   "outputs": [
    {
     "data": {
      "text/html": [
       "<div>\n",
       "<style scoped>\n",
       "    .dataframe tbody tr th:only-of-type {\n",
       "        vertical-align: middle;\n",
       "    }\n",
       "\n",
       "    .dataframe tbody tr th {\n",
       "        vertical-align: top;\n",
       "    }\n",
       "\n",
       "    .dataframe thead th {\n",
       "        text-align: right;\n",
       "    }\n",
       "</style>\n",
       "<table border=\"1\" class=\"dataframe\">\n",
       "  <thead>\n",
       "    <tr style=\"text-align: right;\">\n",
       "      <th></th>\n",
       "      <th>번호</th>\n",
       "      <th>분류</th>\n",
       "      <th>지점명</th>\n",
       "      <th>채수위치</th>\n",
       "      <th>수온(℃)</th>\n",
       "      <th>pH</th>\n",
       "      <th>DO(㎎/ℓ)</th>\n",
       "      <th>Chl-a(㎎/㎥)</th>\n",
       "      <th>최고기온</th>\n",
       "      <th>최저기온</th>\n",
       "      <th>평균강수량</th>\n",
       "      <th>month</th>\n",
       "      <th>year</th>\n",
       "      <th>result</th>\n",
       "    </tr>\n",
       "  </thead>\n",
       "  <tbody>\n",
       "    <tr>\n",
       "      <th>2</th>\n",
       "      <td>1.0</td>\n",
       "      <td>2</td>\n",
       "      <td>18</td>\n",
       "      <td>15</td>\n",
       "      <td>23.8</td>\n",
       "      <td>7.6</td>\n",
       "      <td>6.2</td>\n",
       "      <td>10.4</td>\n",
       "      <td>26.4</td>\n",
       "      <td>19.9</td>\n",
       "      <td>37.7</td>\n",
       "      <td>1</td>\n",
       "      <td>0</td>\n",
       "      <td>1</td>\n",
       "    </tr>\n",
       "    <tr>\n",
       "      <th>3</th>\n",
       "      <td>2.0</td>\n",
       "      <td>2</td>\n",
       "      <td>18</td>\n",
       "      <td>7</td>\n",
       "      <td>18.7</td>\n",
       "      <td>7.9</td>\n",
       "      <td>10.2</td>\n",
       "      <td>3.3</td>\n",
       "      <td>26.4</td>\n",
       "      <td>19.9</td>\n",
       "      <td>37.7</td>\n",
       "      <td>1</td>\n",
       "      <td>0</td>\n",
       "      <td>0</td>\n",
       "    </tr>\n",
       "    <tr>\n",
       "      <th>4</th>\n",
       "      <td>3.0</td>\n",
       "      <td>2</td>\n",
       "      <td>7</td>\n",
       "      <td>24</td>\n",
       "      <td>16.1</td>\n",
       "      <td>7.8</td>\n",
       "      <td>5.3</td>\n",
       "      <td>6.7</td>\n",
       "      <td>25.8</td>\n",
       "      <td>20.7</td>\n",
       "      <td>54.1</td>\n",
       "      <td>1</td>\n",
       "      <td>0</td>\n",
       "      <td>1</td>\n",
       "    </tr>\n",
       "    <tr>\n",
       "      <th>5</th>\n",
       "      <td>4.0</td>\n",
       "      <td>2</td>\n",
       "      <td>7</td>\n",
       "      <td>8</td>\n",
       "      <td>23.7</td>\n",
       "      <td>8.9</td>\n",
       "      <td>12.1</td>\n",
       "      <td>9.6</td>\n",
       "      <td>25.8</td>\n",
       "      <td>20.7</td>\n",
       "      <td>54.1</td>\n",
       "      <td>1</td>\n",
       "      <td>0</td>\n",
       "      <td>1</td>\n",
       "    </tr>\n",
       "    <tr>\n",
       "      <th>6</th>\n",
       "      <td>5.0</td>\n",
       "      <td>2</td>\n",
       "      <td>10</td>\n",
       "      <td>16</td>\n",
       "      <td>18.2</td>\n",
       "      <td>7.4</td>\n",
       "      <td>5.9</td>\n",
       "      <td>5.0</td>\n",
       "      <td>31.5</td>\n",
       "      <td>23.1</td>\n",
       "      <td>0.0</td>\n",
       "      <td>1</td>\n",
       "      <td>0</td>\n",
       "      <td>1</td>\n",
       "    </tr>\n",
       "  </tbody>\n",
       "</table>\n",
       "</div>"
      ],
      "text/plain": [
       "    번호  분류  지점명  채수위치  수온(℃)   pH  DO(㎎/ℓ)  Chl-a(㎎/㎥)  최고기온  최저기온  평균강수량  \\\n",
       "2  1.0   2   18    15   23.8  7.6      6.2        10.4  26.4  19.9   37.7   \n",
       "3  2.0   2   18     7   18.7  7.9     10.2         3.3  26.4  19.9   37.7   \n",
       "4  3.0   2    7    24   16.1  7.8      5.3         6.7  25.8  20.7   54.1   \n",
       "5  4.0   2    7     8   23.7  8.9     12.1         9.6  25.8  20.7   54.1   \n",
       "6  5.0   2   10    16   18.2  7.4      5.9         5.0  31.5  23.1    0.0   \n",
       "\n",
       "   month  year  result  \n",
       "2      1     0       1  \n",
       "3      1     0       0  \n",
       "4      1     0       1  \n",
       "5      1     0       1  \n",
       "6      1     0       1  "
      ]
     },
     "execution_count": 131,
     "metadata": {},
     "output_type": "execute_result"
    }
   ],
   "source": [
    "df2.head()"
   ]
  },
  {
   "cell_type": "code",
   "execution_count": 132,
   "metadata": {},
   "outputs": [],
   "source": [
    "df2.drop(['번호'], axis=1, inplace=True)"
   ]
  },
  {
   "cell_type": "code",
   "execution_count": 133,
   "metadata": {
    "id": "etBf0Igsv8SY"
   },
   "outputs": [],
   "source": [
    "y = df2['result']\n",
    "X = df2[df2.columns.difference(['result'])]"
   ]
  },
  {
   "cell_type": "code",
   "execution_count": 134,
   "metadata": {
    "id": "etBf0Igsv8SY"
   },
   "outputs": [],
   "source": [
    "X_train, X_test, y_train, y_test = train_test_split(X, y, test_size = 0.3, random_state = 42)"
   ]
  },
  {
   "cell_type": "markdown",
   "metadata": {},
   "source": [
    "#### 2-1. DecisionTree"
   ]
  },
  {
   "cell_type": "code",
   "execution_count": 135,
   "metadata": {
    "id": "5C8gEBeKwfW3"
   },
   "outputs": [],
   "source": [
    "from sklearn import tree\n",
    "\n",
    "DT_clf = tree.DecisionTreeClassifier()\n",
    "DT_clf = DT_clf.fit(X_train, y_train)"
   ]
  },
  {
   "cell_type": "code",
   "execution_count": 136,
   "metadata": {
    "id": "J_lhTx81xvpY"
   },
   "outputs": [],
   "source": [
    "y_pred = DT_clf.predict(X_test)"
   ]
  },
  {
   "cell_type": "code",
   "execution_count": 137,
   "metadata": {
    "colab": {
     "base_uri": "https://localhost:8080/"
    },
    "id": "li7Jjokex1yU",
    "outputId": "d5821350-b7bb-4084-bb19-1db433941a09"
   },
   "outputs": [
    {
     "data": {
      "text/plain": [
       "0.6634255796559462"
      ]
     },
     "execution_count": 137,
     "metadata": {},
     "output_type": "execute_result"
    }
   ],
   "source": [
    "from sklearn.metrics import accuracy_score\n",
    "accuracy_score(y_test, y_pred)"
   ]
  },
  {
   "cell_type": "markdown",
   "metadata": {
    "id": "q_BhSD9QyFvJ"
   },
   "source": [
    "#### 2-2.  SVM"
   ]
  },
  {
   "cell_type": "code",
   "execution_count": 138,
   "metadata": {},
   "outputs": [
    {
     "data": {
      "text/plain": [
       "SVC()"
      ]
     },
     "execution_count": 138,
     "metadata": {},
     "output_type": "execute_result"
    }
   ],
   "source": [
    "from sklearn import svm\n",
    "\n",
    "SVM_clf = svm.SVC(kernel = \"rbf\")\n",
    "SVM_clf.fit(X_train, y_train)"
   ]
  },
  {
   "cell_type": "code",
   "execution_count": 139,
   "metadata": {},
   "outputs": [],
   "source": [
    "y_pred = SVM_clf.predict(X_test)"
   ]
  },
  {
   "cell_type": "code",
   "execution_count": 140,
   "metadata": {},
   "outputs": [
    {
     "data": {
      "text/plain": [
       "0.643979057591623"
      ]
     },
     "execution_count": 140,
     "metadata": {},
     "output_type": "execute_result"
    }
   ],
   "source": [
    "accuracy_score(y_test, y_pred)"
   ]
  },
  {
   "cell_type": "markdown",
   "metadata": {},
   "source": [
    "#### 2-3.  Random Forest"
   ]
  },
  {
   "cell_type": "code",
   "execution_count": 141,
   "metadata": {},
   "outputs": [
    {
     "data": {
      "text/plain": [
       "RandomForestClassifier()"
      ]
     },
     "execution_count": 141,
     "metadata": {},
     "output_type": "execute_result"
    }
   ],
   "source": [
    "from sklearn.ensemble import RandomForestClassifier\n",
    "\n",
    "# 학습 진행\n",
    "RF_clf = RandomForestClassifier(n_estimators=100)\n",
    "RF_clf.fit(X_train, y_train)"
   ]
  },
  {
   "cell_type": "code",
   "execution_count": 142,
   "metadata": {},
   "outputs": [
    {
     "data": {
      "text/plain": [
       "0.7539267015706806"
      ]
     },
     "execution_count": 142,
     "metadata": {},
     "output_type": "execute_result"
    }
   ],
   "source": [
    "# 예측\n",
    "y_pred = RF_clf.predict(X_test)\n",
    "accuracy_score(y_test, y_pred)"
   ]
  },
  {
   "cell_type": "markdown",
   "metadata": {},
   "source": [
    "#### 2-4.  kNN"
   ]
  },
  {
   "cell_type": "code",
   "execution_count": 143,
   "metadata": {},
   "outputs": [
    {
     "data": {
      "text/plain": [
       "0.6574420344053852"
      ]
     },
     "execution_count": 143,
     "metadata": {},
     "output_type": "execute_result"
    }
   ],
   "source": [
    "from sklearn.neighbors import KNeighborsClassifier\n",
    "\n",
    "KNN_clf = KNeighborsClassifier(n_neighbors=5)\n",
    "KNN_clf.fit(X_train, y_train)\n",
    "KNN_clf.score(X_test, y_test)"
   ]
  },
  {
   "cell_type": "markdown",
   "metadata": {},
   "source": [
    "#### 2-5. Naive Bayes"
   ]
  },
  {
   "cell_type": "code",
   "execution_count": 144,
   "metadata": {},
   "outputs": [
    {
     "data": {
      "text/plain": [
       "0.5385190725504861"
      ]
     },
     "execution_count": 144,
     "metadata": {},
     "output_type": "execute_result"
    }
   ],
   "source": [
    "from sklearn.naive_bayes import GaussianNB\n",
    "\n",
    "NB_clf = GaussianNB()\n",
    "NB_clf.fit(X_train, y_train)\n",
    "NB_clf.score(X_test, y_test)"
   ]
  },
  {
   "cell_type": "markdown",
   "metadata": {},
   "source": [
    "### 3. 앙상블 학습"
   ]
  },
  {
   "cell_type": "code",
   "execution_count": 145,
   "metadata": {},
   "outputs": [],
   "source": [
    "from sklearn.datasets import load_boston\n",
    "import xgboost\n",
    "import matplotlib.pyplot as plt\n",
    "from sklearn.model_selection import train_test_split\n",
    "from sklearn.metrics import explained_variance_score\n",
    "\n",
    "from matplotlib import font_manager, rc\n",
    "font_name = font_manager.FontProperties(fname=\"c:/Windows/Fonts/malgun.ttf\").get_name()\n",
    "rc('font', family=font_name)"
   ]
  },
  {
   "cell_type": "code",
   "execution_count": 146,
   "metadata": {},
   "outputs": [],
   "source": [
    "XGB_model = xgboost.XGBRegressor(n_estimators=100, learning_rate=0.08, gamma=0, subsample=0.75,\n",
    "                           colsample_bytree=1, max_depth=7)"
   ]
  },
  {
   "cell_type": "code",
   "execution_count": 147,
   "metadata": {},
   "outputs": [
    {
     "data": {
      "text/plain": [
       "XGBRegressor(base_score=0.5, booster='gbtree', colsample_bylevel=1,\n",
       "             colsample_bynode=1, colsample_bytree=1, gamma=0, gpu_id=-1,\n",
       "             importance_type='gain', interaction_constraints='',\n",
       "             learning_rate=0.08, max_delta_step=0, max_depth=7,\n",
       "             min_child_weight=1, missing=nan, monotone_constraints='()',\n",
       "             n_estimators=100, n_jobs=16, num_parallel_tree=1, random_state=0,\n",
       "             reg_alpha=0, reg_lambda=1, scale_pos_weight=1, subsample=0.75,\n",
       "             tree_method='exact', validate_parameters=1, verbosity=None)"
      ]
     },
     "execution_count": 147,
     "metadata": {},
     "output_type": "execute_result"
    }
   ],
   "source": [
    "XGB_model.fit(X_train, y_train)"
   ]
  },
  {
   "cell_type": "code",
   "execution_count": 148,
   "metadata": {
    "tags": []
   },
   "outputs": [
    {
     "data": {
      "text/plain": [
       "<AxesSubplot:title={'center':'Feature importance'}, xlabel='F score', ylabel='Features'>"
      ]
     },
     "execution_count": 148,
     "metadata": {},
     "output_type": "execute_result"
    },
    {
     "data": {
      "image/png": "[encoded data removed]",
      "text/plain": [
       "<Figure size 432x288 with 1 Axes>"
      ]
     },
     "metadata": {
      "needs_background": "light"
     },
     "output_type": "display_data"
    }
   ],
   "source": [
    "xgboost.plot_importance(XGB_model)"
   ]
  },
  {
   "cell_type": "code",
   "execution_count": 149,
   "metadata": {},
   "outputs": [],
   "source": [
    "y_pred = XGB_model.predict(X_test)"
   ]
  },
  {
   "cell_type": "code",
   "execution_count": 150,
   "metadata": {},
   "outputs": [
    {
     "data": {
      "text/plain": [
       "0.6644968187771021"
      ]
     },
     "execution_count": 150,
     "metadata": {},
     "output_type": "execute_result"
    }
   ],
   "source": [
    "XGB_model.score(X_test, y_test)"
   ]
  },
  {
   "cell_type": "code",
   "execution_count": 151,
   "metadata": {},
   "outputs": [
    {
     "name": "stdout",
     "output_type": "stream",
     "text": [
      "0.5056630254031902\n"
     ]
    }
   ],
   "source": [
    "print(explained_variance_score(y_pred, y_test))"
   ]
  },
  {
   "cell_type": "markdown",
   "metadata": {},
   "source": [
    "#### 4. 모델 재학습\n",
    "- 중요한 feature 5개 이용"
   ]
  },
  {
   "cell_type": "code",
   "execution_count": 152,
   "metadata": {},
   "outputs": [
    {
     "data": {
      "text/plain": [
       "Index(['분류', '지점명', '채수위치', '수온(℃)', 'pH', 'DO(㎎/ℓ)', 'Chl-a(㎎/㎥)', '최고기온',\n",
       "       '최저기온', '평균강수량', 'month', 'year', 'result'],\n",
       "      dtype='object')"
      ]
     },
     "execution_count": 152,
     "metadata": {},
     "output_type": "execute_result"
    }
   ],
   "source": [
    "df2.columns"
   ]
  },
  {
   "cell_type": "code",
   "execution_count": 153,
   "metadata": {},
   "outputs": [],
   "source": [
    "important_columns = ['Chl-a(㎎/㎥)', '최고기온', '최저기온', 'DO(㎎/ℓ)', '수온(℃)', 'pH', 'result']"
   ]
  },
  {
   "cell_type": "code",
   "execution_count": 154,
   "metadata": {},
   "outputs": [],
   "source": [
    "df3 = df2[important_columns]"
   ]
  },
  {
   "cell_type": "code",
   "execution_count": 155,
   "metadata": {},
   "outputs": [
    {
     "data": {
      "text/html": [
       "<div>\n",
       "<style scoped>\n",
       "    .dataframe tbody tr th:only-of-type {\n",
       "        vertical-align: middle;\n",
       "    }\n",
       "\n",
       "    .dataframe tbody tr th {\n",
       "        vertical-align: top;\n",
       "    }\n",
       "\n",
       "    .dataframe thead th {\n",
       "        text-align: right;\n",
       "    }\n",
       "</style>\n",
       "<table border=\"1\" class=\"dataframe\">\n",
       "  <thead>\n",
       "    <tr style=\"text-align: right;\">\n",
       "      <th></th>\n",
       "      <th>Chl-a(㎎/㎥)</th>\n",
       "      <th>최고기온</th>\n",
       "      <th>최저기온</th>\n",
       "      <th>DO(㎎/ℓ)</th>\n",
       "      <th>수온(℃)</th>\n",
       "      <th>pH</th>\n",
       "      <th>result</th>\n",
       "    </tr>\n",
       "  </thead>\n",
       "  <tbody>\n",
       "    <tr>\n",
       "      <th>2</th>\n",
       "      <td>10.4</td>\n",
       "      <td>26.4</td>\n",
       "      <td>19.9</td>\n",
       "      <td>6.2</td>\n",
       "      <td>23.8</td>\n",
       "      <td>7.6</td>\n",
       "      <td>1</td>\n",
       "    </tr>\n",
       "    <tr>\n",
       "      <th>3</th>\n",
       "      <td>3.3</td>\n",
       "      <td>26.4</td>\n",
       "      <td>19.9</td>\n",
       "      <td>10.2</td>\n",
       "      <td>18.7</td>\n",
       "      <td>7.9</td>\n",
       "      <td>0</td>\n",
       "    </tr>\n",
       "    <tr>\n",
       "      <th>4</th>\n",
       "      <td>6.7</td>\n",
       "      <td>25.8</td>\n",
       "      <td>20.7</td>\n",
       "      <td>5.3</td>\n",
       "      <td>16.1</td>\n",
       "      <td>7.8</td>\n",
       "      <td>1</td>\n",
       "    </tr>\n",
       "    <tr>\n",
       "      <th>5</th>\n",
       "      <td>9.6</td>\n",
       "      <td>25.8</td>\n",
       "      <td>20.7</td>\n",
       "      <td>12.1</td>\n",
       "      <td>23.7</td>\n",
       "      <td>8.9</td>\n",
       "      <td>1</td>\n",
       "    </tr>\n",
       "    <tr>\n",
       "      <th>6</th>\n",
       "      <td>5.0</td>\n",
       "      <td>31.5</td>\n",
       "      <td>23.1</td>\n",
       "      <td>5.9</td>\n",
       "      <td>18.2</td>\n",
       "      <td>7.4</td>\n",
       "      <td>1</td>\n",
       "    </tr>\n",
       "  </tbody>\n",
       "</table>\n",
       "</div>"
      ],
      "text/plain": [
       "   Chl-a(㎎/㎥)  최고기온  최저기온  DO(㎎/ℓ)  수온(℃)   pH  result\n",
       "2        10.4  26.4  19.9      6.2   23.8  7.6       1\n",
       "3         3.3  26.4  19.9     10.2   18.7  7.9       0\n",
       "4         6.7  25.8  20.7      5.3   16.1  7.8       1\n",
       "5         9.6  25.8  20.7     12.1   23.7  8.9       1\n",
       "6         5.0  31.5  23.1      5.9   18.2  7.4       1"
      ]
     },
     "execution_count": 155,
     "metadata": {},
     "output_type": "execute_result"
    }
   ],
   "source": [
    "df3.head()"
   ]
  },
  {
   "cell_type": "code",
   "execution_count": 156,
   "metadata": {},
   "outputs": [],
   "source": [
    "y = df3['result']\n",
    "X = df3[df3.columns.difference(['result'])]\n",
    "\n",
    "X_train, X_test, y_train, y_test = train_test_split(X, y, test_size = 0.3, random_state = 42)"
   ]
  },
  {
   "cell_type": "code",
   "execution_count": 157,
   "metadata": {},
   "outputs": [],
   "source": [
    "y_pred = list()\n",
    "y_acc = list()\n",
    "\n",
    "DT_clf = tree.DecisionTreeClassifier()\n",
    "DT_clf = DT_clf.fit(X_train, y_train)\n",
    "y_pred.append(DT_clf.predict(X_test))\n",
    "y_acc.append(DT_clf.score(X_test, y_test))\n",
    "\n",
    "SVM_clf = svm.SVC(kernel = \"rbf\")\n",
    "SVM_clf.fit(X_train, y_train)\n",
    "y_pred.append(SVM_clf.predict(X_test))\n",
    "y_acc.append(SVM_clf.score(X_test, y_test))\n",
    "\n",
    "RF_clf = RandomForestClassifier(n_estimators=100)\n",
    "RF_clf.fit(X_train, y_train)\n",
    "y_pred.append(RF_clf.predict(X_test))\n",
    "y_acc.append(RF_clf.score(X_test, y_test))\n",
    "\n",
    "KNN_clf = KNeighborsClassifier(n_neighbors=5)\n",
    "KNN_clf.fit(X_train, y_train)\n",
    "y_pred.append(KNN_clf.predict(X_test))\n",
    "y_acc.append(KNN_clf.score(X_test, y_test))\n",
    "\n",
    "NB_clf = GaussianNB()\n",
    "NB_clf.fit(X_train, y_train)\n",
    "y_pred.append(NB_clf.predict(X_test))\n",
    "y_acc.append(NB_clf.score(X_test, y_test))"
   ]
  },
  {
   "cell_type": "code",
   "execution_count": 158,
   "metadata": {},
   "outputs": [
    {
     "data": {
      "text/plain": [
       "[array([2, 0, 0, ..., 0, 0, 0], dtype=int64),\n",
       " array([1, 0, 0, ..., 0, 0, 0], dtype=int64),\n",
       " array([1, 0, 0, ..., 1, 0, 0], dtype=int64),\n",
       " array([2, 0, 0, ..., 0, 0, 0], dtype=int64),\n",
       " array([2, 1, 0, ..., 0, 1, 1], dtype=int64)]"
      ]
     },
     "execution_count": 158,
     "metadata": {},
     "output_type": "execute_result"
    }
   ],
   "source": [
    "y_pred"
   ]
  },
  {
   "cell_type": "code",
   "execution_count": 159,
   "metadata": {},
   "outputs": [
    {
     "data": {
      "text/plain": [
       "[0.5572176514584891,\n",
       " 0.6260284218399401,\n",
       " 0.6462228870605834,\n",
       " 0.5991024682124159,\n",
       " 0.49364248317127896]"
      ]
     },
     "execution_count": 159,
     "metadata": {},
     "output_type": "execute_result"
    }
   ],
   "source": [
    "y_acc"
   ]
  },
  {
   "cell_type": "code",
   "execution_count": 161,
   "metadata": {
    "collapsed": true,
    "jupyter": {
     "outputs_hidden": true
    },
    "tags": []
   },
   "outputs": [
    {
     "name": "stderr",
     "output_type": "stream",
     "text": [
      "<ipython-input-161-5bf6fbdfbdf4>:17: DeprecationWarning: The default dtype for empty Series will be 'object' instead of 'float64' in a future version. Specify a dtype explicitly to silence this warning.\n",
      "  pval = pd.Series(index=remainder) ## 변수의 p-value\n",
      "C:\\Users\\user\\anaconda3\\envs\\torch37\\lib\\site-packages\\statsmodels\\tsa\\tsatools.py:142: FutureWarning: In a future version of pandas all arguments of concat except for the argument 'objs' will be keyword-only\n",
      "  x = pd.concat(x[::order], 1)\n",
      "C:\\Users\\user\\anaconda3\\envs\\torch37\\lib\\site-packages\\statsmodels\\tsa\\tsatools.py:142: FutureWarning: In a future version of pandas all arguments of concat except for the argument 'objs' will be keyword-only\n",
      "  x = pd.concat(x[::order], 1)\n",
      "C:\\Users\\user\\anaconda3\\envs\\torch37\\lib\\site-packages\\statsmodels\\tsa\\tsatools.py:142: FutureWarning: In a future version of pandas all arguments of concat except for the argument 'objs' will be keyword-only\n",
      "  x = pd.concat(x[::order], 1)\n",
      "C:\\Users\\user\\anaconda3\\envs\\torch37\\lib\\site-packages\\statsmodels\\tsa\\tsatools.py:142: FutureWarning: In a future version of pandas all arguments of concat except for the argument 'objs' will be keyword-only\n",
      "  x = pd.concat(x[::order], 1)\n",
      "C:\\Users\\user\\anaconda3\\envs\\torch37\\lib\\site-packages\\statsmodels\\tsa\\tsatools.py:142: FutureWarning: In a future version of pandas all arguments of concat except for the argument 'objs' will be keyword-only\n",
      "  x = pd.concat(x[::order], 1)\n",
      "C:\\Users\\user\\anaconda3\\envs\\torch37\\lib\\site-packages\\statsmodels\\tsa\\tsatools.py:142: FutureWarning: In a future version of pandas all arguments of concat except for the argument 'objs' will be keyword-only\n",
      "  x = pd.concat(x[::order], 1)\n",
      "C:\\Users\\user\\anaconda3\\envs\\torch37\\lib\\site-packages\\statsmodels\\tsa\\tsatools.py:142: FutureWarning: In a future version of pandas all arguments of concat except for the argument 'objs' will be keyword-only\n",
      "  x = pd.concat(x[::order], 1)\n",
      "C:\\Users\\user\\anaconda3\\envs\\torch37\\lib\\site-packages\\statsmodels\\tsa\\tsatools.py:142: FutureWarning: In a future version of pandas all arguments of concat except for the argument 'objs' will be keyword-only\n",
      "  x = pd.concat(x[::order], 1)\n",
      "C:\\Users\\user\\anaconda3\\envs\\torch37\\lib\\site-packages\\statsmodels\\tsa\\tsatools.py:142: FutureWarning: In a future version of pandas all arguments of concat except for the argument 'objs' will be keyword-only\n",
      "  x = pd.concat(x[::order], 1)\n",
      "C:\\Users\\user\\anaconda3\\envs\\torch37\\lib\\site-packages\\statsmodels\\tsa\\tsatools.py:142: FutureWarning: In a future version of pandas all arguments of concat except for the argument 'objs' will be keyword-only\n",
      "  x = pd.concat(x[::order], 1)\n",
      "C:\\Users\\user\\anaconda3\\envs\\torch37\\lib\\site-packages\\statsmodels\\tsa\\tsatools.py:142: FutureWarning: In a future version of pandas all arguments of concat except for the argument 'objs' will be keyword-only\n",
      "  x = pd.concat(x[::order], 1)\n",
      "C:\\Users\\user\\anaconda3\\envs\\torch37\\lib\\site-packages\\statsmodels\\tsa\\tsatools.py:142: FutureWarning: In a future version of pandas all arguments of concat except for the argument 'objs' will be keyword-only\n",
      "  x = pd.concat(x[::order], 1)\n",
      "C:\\Users\\user\\anaconda3\\envs\\torch37\\lib\\site-packages\\statsmodels\\tsa\\tsatools.py:142: FutureWarning: In a future version of pandas all arguments of concat except for the argument 'objs' will be keyword-only\n",
      "  x = pd.concat(x[::order], 1)\n",
      "<ipython-input-161-5bf6fbdfbdf4>:17: DeprecationWarning: The default dtype for empty Series will be 'object' instead of 'float64' in a future version. Specify a dtype explicitly to silence this warning.\n",
      "  pval = pd.Series(index=remainder) ## 변수의 p-value\n",
      "C:\\Users\\user\\anaconda3\\envs\\torch37\\lib\\site-packages\\statsmodels\\tsa\\tsatools.py:142: FutureWarning: In a future version of pandas all arguments of concat except for the argument 'objs' will be keyword-only\n",
      "  x = pd.concat(x[::order], 1)\n",
      "C:\\Users\\user\\anaconda3\\envs\\torch37\\lib\\site-packages\\statsmodels\\tsa\\tsatools.py:142: FutureWarning: In a future version of pandas all arguments of concat except for the argument 'objs' will be keyword-only\n",
      "  x = pd.concat(x[::order], 1)\n",
      "C:\\Users\\user\\anaconda3\\envs\\torch37\\lib\\site-packages\\statsmodels\\tsa\\tsatools.py:142: FutureWarning: In a future version of pandas all arguments of concat except for the argument 'objs' will be keyword-only\n",
      "  x = pd.concat(x[::order], 1)\n",
      "C:\\Users\\user\\anaconda3\\envs\\torch37\\lib\\site-packages\\statsmodels\\tsa\\tsatools.py:142: FutureWarning: In a future version of pandas all arguments of concat except for the argument 'objs' will be keyword-only\n",
      "  x = pd.concat(x[::order], 1)\n",
      "C:\\Users\\user\\anaconda3\\envs\\torch37\\lib\\site-packages\\statsmodels\\tsa\\tsatools.py:142: FutureWarning: In a future version of pandas all arguments of concat except for the argument 'objs' will be keyword-only\n",
      "  x = pd.concat(x[::order], 1)\n",
      "C:\\Users\\user\\anaconda3\\envs\\torch37\\lib\\site-packages\\statsmodels\\tsa\\tsatools.py:142: FutureWarning: In a future version of pandas all arguments of concat except for the argument 'objs' will be keyword-only\n",
      "  x = pd.concat(x[::order], 1)\n",
      "C:\\Users\\user\\anaconda3\\envs\\torch37\\lib\\site-packages\\statsmodels\\tsa\\tsatools.py:142: FutureWarning: In a future version of pandas all arguments of concat except for the argument 'objs' will be keyword-only\n",
      "  x = pd.concat(x[::order], 1)\n",
      "C:\\Users\\user\\anaconda3\\envs\\torch37\\lib\\site-packages\\statsmodels\\tsa\\tsatools.py:142: FutureWarning: In a future version of pandas all arguments of concat except for the argument 'objs' will be keyword-only\n",
      "  x = pd.concat(x[::order], 1)\n",
      "C:\\Users\\user\\anaconda3\\envs\\torch37\\lib\\site-packages\\statsmodels\\tsa\\tsatools.py:142: FutureWarning: In a future version of pandas all arguments of concat except for the argument 'objs' will be keyword-only\n",
      "  x = pd.concat(x[::order], 1)\n",
      "C:\\Users\\user\\anaconda3\\envs\\torch37\\lib\\site-packages\\statsmodels\\tsa\\tsatools.py:142: FutureWarning: In a future version of pandas all arguments of concat except for the argument 'objs' will be keyword-only\n",
      "  x = pd.concat(x[::order], 1)\n",
      "C:\\Users\\user\\anaconda3\\envs\\torch37\\lib\\site-packages\\statsmodels\\tsa\\tsatools.py:142: FutureWarning: In a future version of pandas all arguments of concat except for the argument 'objs' will be keyword-only\n",
      "  x = pd.concat(x[::order], 1)\n",
      "<ipython-input-161-5bf6fbdfbdf4>:17: DeprecationWarning: The default dtype for empty Series will be 'object' instead of 'float64' in a future version. Specify a dtype explicitly to silence this warning.\n",
      "  pval = pd.Series(index=remainder) ## 변수의 p-value\n",
      "C:\\Users\\user\\anaconda3\\envs\\torch37\\lib\\site-packages\\statsmodels\\tsa\\tsatools.py:142: FutureWarning: In a future version of pandas all arguments of concat except for the argument 'objs' will be keyword-only\n",
      "  x = pd.concat(x[::order], 1)\n",
      "C:\\Users\\user\\anaconda3\\envs\\torch37\\lib\\site-packages\\statsmodels\\tsa\\tsatools.py:142: FutureWarning: In a future version of pandas all arguments of concat except for the argument 'objs' will be keyword-only\n",
      "  x = pd.concat(x[::order], 1)\n",
      "C:\\Users\\user\\anaconda3\\envs\\torch37\\lib\\site-packages\\statsmodels\\tsa\\tsatools.py:142: FutureWarning: In a future version of pandas all arguments of concat except for the argument 'objs' will be keyword-only\n",
      "  x = pd.concat(x[::order], 1)\n",
      "C:\\Users\\user\\anaconda3\\envs\\torch37\\lib\\site-packages\\statsmodels\\tsa\\tsatools.py:142: FutureWarning: In a future version of pandas all arguments of concat except for the argument 'objs' will be keyword-only\n",
      "  x = pd.concat(x[::order], 1)\n",
      "C:\\Users\\user\\anaconda3\\envs\\torch37\\lib\\site-packages\\statsmodels\\tsa\\tsatools.py:142: FutureWarning: In a future version of pandas all arguments of concat except for the argument 'objs' will be keyword-only\n",
      "  x = pd.concat(x[::order], 1)\n",
      "C:\\Users\\user\\anaconda3\\envs\\torch37\\lib\\site-packages\\statsmodels\\tsa\\tsatools.py:142: FutureWarning: In a future version of pandas all arguments of concat except for the argument 'objs' will be keyword-only\n",
      "  x = pd.concat(x[::order], 1)\n",
      "C:\\Users\\user\\anaconda3\\envs\\torch37\\lib\\site-packages\\statsmodels\\tsa\\tsatools.py:142: FutureWarning: In a future version of pandas all arguments of concat except for the argument 'objs' will be keyword-only\n",
      "  x = pd.concat(x[::order], 1)\n",
      "C:\\Users\\user\\anaconda3\\envs\\torch37\\lib\\site-packages\\statsmodels\\tsa\\tsatools.py:142: FutureWarning: In a future version of pandas all arguments of concat except for the argument 'objs' will be keyword-only\n",
      "  x = pd.concat(x[::order], 1)\n",
      "C:\\Users\\user\\anaconda3\\envs\\torch37\\lib\\site-packages\\statsmodels\\tsa\\tsatools.py:142: FutureWarning: In a future version of pandas all arguments of concat except for the argument 'objs' will be keyword-only\n",
      "  x = pd.concat(x[::order], 1)\n",
      "C:\\Users\\user\\anaconda3\\envs\\torch37\\lib\\site-packages\\statsmodels\\tsa\\tsatools.py:142: FutureWarning: In a future version of pandas all arguments of concat except for the argument 'objs' will be keyword-only\n",
      "  x = pd.concat(x[::order], 1)\n",
      "<ipython-input-161-5bf6fbdfbdf4>:17: DeprecationWarning: The default dtype for empty Series will be 'object' instead of 'float64' in a future version. Specify a dtype explicitly to silence this warning.\n",
      "  pval = pd.Series(index=remainder) ## 변수의 p-value\n",
      "C:\\Users\\user\\anaconda3\\envs\\torch37\\lib\\site-packages\\statsmodels\\tsa\\tsatools.py:142: FutureWarning: In a future version of pandas all arguments of concat except for the argument 'objs' will be keyword-only\n",
      "  x = pd.concat(x[::order], 1)\n",
      "C:\\Users\\user\\anaconda3\\envs\\torch37\\lib\\site-packages\\statsmodels\\tsa\\tsatools.py:142: FutureWarning: In a future version of pandas all arguments of concat except for the argument 'objs' will be keyword-only\n",
      "  x = pd.concat(x[::order], 1)\n",
      "C:\\Users\\user\\anaconda3\\envs\\torch37\\lib\\site-packages\\statsmodels\\tsa\\tsatools.py:142: FutureWarning: In a future version of pandas all arguments of concat except for the argument 'objs' will be keyword-only\n",
      "  x = pd.concat(x[::order], 1)\n",
      "C:\\Users\\user\\anaconda3\\envs\\torch37\\lib\\site-packages\\statsmodels\\tsa\\tsatools.py:142: FutureWarning: In a future version of pandas all arguments of concat except for the argument 'objs' will be keyword-only\n",
      "  x = pd.concat(x[::order], 1)\n",
      "C:\\Users\\user\\anaconda3\\envs\\torch37\\lib\\site-packages\\statsmodels\\tsa\\tsatools.py:142: FutureWarning: In a future version of pandas all arguments of concat except for the argument 'objs' will be keyword-only\n",
      "  x = pd.concat(x[::order], 1)\n",
      "C:\\Users\\user\\anaconda3\\envs\\torch37\\lib\\site-packages\\statsmodels\\tsa\\tsatools.py:142: FutureWarning: In a future version of pandas all arguments of concat except for the argument 'objs' will be keyword-only\n",
      "  x = pd.concat(x[::order], 1)\n",
      "C:\\Users\\user\\anaconda3\\envs\\torch37\\lib\\site-packages\\statsmodels\\tsa\\tsatools.py:142: FutureWarning: In a future version of pandas all arguments of concat except for the argument 'objs' will be keyword-only\n",
      "  x = pd.concat(x[::order], 1)\n",
      "C:\\Users\\user\\anaconda3\\envs\\torch37\\lib\\site-packages\\statsmodels\\tsa\\tsatools.py:142: FutureWarning: In a future version of pandas all arguments of concat except for the argument 'objs' will be keyword-only\n",
      "  x = pd.concat(x[::order], 1)\n",
      "C:\\Users\\user\\anaconda3\\envs\\torch37\\lib\\site-packages\\statsmodels\\tsa\\tsatools.py:142: FutureWarning: In a future version of pandas all arguments of concat except for the argument 'objs' will be keyword-only\n",
      "  x = pd.concat(x[::order], 1)\n",
      "<ipython-input-161-5bf6fbdfbdf4>:17: DeprecationWarning: The default dtype for empty Series will be 'object' instead of 'float64' in a future version. Specify a dtype explicitly to silence this warning.\n",
      "  pval = pd.Series(index=remainder) ## 변수의 p-value\n",
      "C:\\Users\\user\\anaconda3\\envs\\torch37\\lib\\site-packages\\statsmodels\\tsa\\tsatools.py:142: FutureWarning: In a future version of pandas all arguments of concat except for the argument 'objs' will be keyword-only\n",
      "  x = pd.concat(x[::order], 1)\n",
      "C:\\Users\\user\\anaconda3\\envs\\torch37\\lib\\site-packages\\statsmodels\\tsa\\tsatools.py:142: FutureWarning: In a future version of pandas all arguments of concat except for the argument 'objs' will be keyword-only\n",
      "  x = pd.concat(x[::order], 1)\n",
      "C:\\Users\\user\\anaconda3\\envs\\torch37\\lib\\site-packages\\statsmodels\\tsa\\tsatools.py:142: FutureWarning: In a future version of pandas all arguments of concat except for the argument 'objs' will be keyword-only\n",
      "  x = pd.concat(x[::order], 1)\n",
      "C:\\Users\\user\\anaconda3\\envs\\torch37\\lib\\site-packages\\statsmodels\\tsa\\tsatools.py:142: FutureWarning: In a future version of pandas all arguments of concat except for the argument 'objs' will be keyword-only\n",
      "  x = pd.concat(x[::order], 1)\n",
      "C:\\Users\\user\\anaconda3\\envs\\torch37\\lib\\site-packages\\statsmodels\\tsa\\tsatools.py:142: FutureWarning: In a future version of pandas all arguments of concat except for the argument 'objs' will be keyword-only\n",
      "  x = pd.concat(x[::order], 1)\n",
      "C:\\Users\\user\\anaconda3\\envs\\torch37\\lib\\site-packages\\statsmodels\\tsa\\tsatools.py:142: FutureWarning: In a future version of pandas all arguments of concat except for the argument 'objs' will be keyword-only\n",
      "  x = pd.concat(x[::order], 1)\n",
      "C:\\Users\\user\\anaconda3\\envs\\torch37\\lib\\site-packages\\statsmodels\\tsa\\tsatools.py:142: FutureWarning: In a future version of pandas all arguments of concat except for the argument 'objs' will be keyword-only\n",
      "  x = pd.concat(x[::order], 1)\n",
      "C:\\Users\\user\\anaconda3\\envs\\torch37\\lib\\site-packages\\statsmodels\\tsa\\tsatools.py:142: FutureWarning: In a future version of pandas all arguments of concat except for the argument 'objs' will be keyword-only\n",
      "  x = pd.concat(x[::order], 1)\n",
      "<ipython-input-161-5bf6fbdfbdf4>:17: DeprecationWarning: The default dtype for empty Series will be 'object' instead of 'float64' in a future version. Specify a dtype explicitly to silence this warning.\n",
      "  pval = pd.Series(index=remainder) ## 변수의 p-value\n",
      "C:\\Users\\user\\anaconda3\\envs\\torch37\\lib\\site-packages\\statsmodels\\tsa\\tsatools.py:142: FutureWarning: In a future version of pandas all arguments of concat except for the argument 'objs' will be keyword-only\n",
      "  x = pd.concat(x[::order], 1)\n",
      "C:\\Users\\user\\anaconda3\\envs\\torch37\\lib\\site-packages\\statsmodels\\tsa\\tsatools.py:142: FutureWarning: In a future version of pandas all arguments of concat except for the argument 'objs' will be keyword-only\n",
      "  x = pd.concat(x[::order], 1)\n",
      "C:\\Users\\user\\anaconda3\\envs\\torch37\\lib\\site-packages\\statsmodels\\tsa\\tsatools.py:142: FutureWarning: In a future version of pandas all arguments of concat except for the argument 'objs' will be keyword-only\n",
      "  x = pd.concat(x[::order], 1)\n",
      "C:\\Users\\user\\anaconda3\\envs\\torch37\\lib\\site-packages\\statsmodels\\tsa\\tsatools.py:142: FutureWarning: In a future version of pandas all arguments of concat except for the argument 'objs' will be keyword-only\n",
      "  x = pd.concat(x[::order], 1)\n",
      "C:\\Users\\user\\anaconda3\\envs\\torch37\\lib\\site-packages\\statsmodels\\tsa\\tsatools.py:142: FutureWarning: In a future version of pandas all arguments of concat except for the argument 'objs' will be keyword-only\n",
      "  x = pd.concat(x[::order], 1)\n",
      "C:\\Users\\user\\anaconda3\\envs\\torch37\\lib\\site-packages\\statsmodels\\tsa\\tsatools.py:142: FutureWarning: In a future version of pandas all arguments of concat except for the argument 'objs' will be keyword-only\n",
      "  x = pd.concat(x[::order], 1)\n",
      "C:\\Users\\user\\anaconda3\\envs\\torch37\\lib\\site-packages\\statsmodels\\tsa\\tsatools.py:142: FutureWarning: In a future version of pandas all arguments of concat except for the argument 'objs' will be keyword-only\n",
      "  x = pd.concat(x[::order], 1)\n",
      "<ipython-input-161-5bf6fbdfbdf4>:17: DeprecationWarning: The default dtype for empty Series will be 'object' instead of 'float64' in a future version. Specify a dtype explicitly to silence this warning.\n",
      "  pval = pd.Series(index=remainder) ## 변수의 p-value\n",
      "C:\\Users\\user\\anaconda3\\envs\\torch37\\lib\\site-packages\\statsmodels\\tsa\\tsatools.py:142: FutureWarning: In a future version of pandas all arguments of concat except for the argument 'objs' will be keyword-only\n",
      "  x = pd.concat(x[::order], 1)\n",
      "C:\\Users\\user\\anaconda3\\envs\\torch37\\lib\\site-packages\\statsmodels\\tsa\\tsatools.py:142: FutureWarning: In a future version of pandas all arguments of concat except for the argument 'objs' will be keyword-only\n",
      "  x = pd.concat(x[::order], 1)\n",
      "C:\\Users\\user\\anaconda3\\envs\\torch37\\lib\\site-packages\\statsmodels\\tsa\\tsatools.py:142: FutureWarning: In a future version of pandas all arguments of concat except for the argument 'objs' will be keyword-only\n",
      "  x = pd.concat(x[::order], 1)\n",
      "C:\\Users\\user\\anaconda3\\envs\\torch37\\lib\\site-packages\\statsmodels\\tsa\\tsatools.py:142: FutureWarning: In a future version of pandas all arguments of concat except for the argument 'objs' will be keyword-only\n",
      "  x = pd.concat(x[::order], 1)\n",
      "C:\\Users\\user\\anaconda3\\envs\\torch37\\lib\\site-packages\\statsmodels\\tsa\\tsatools.py:142: FutureWarning: In a future version of pandas all arguments of concat except for the argument 'objs' will be keyword-only\n",
      "  x = pd.concat(x[::order], 1)\n",
      "C:\\Users\\user\\anaconda3\\envs\\torch37\\lib\\site-packages\\statsmodels\\tsa\\tsatools.py:142: FutureWarning: In a future version of pandas all arguments of concat except for the argument 'objs' will be keyword-only\n",
      "  x = pd.concat(x[::order], 1)\n",
      "<ipython-input-161-5bf6fbdfbdf4>:17: DeprecationWarning: The default dtype for empty Series will be 'object' instead of 'float64' in a future version. Specify a dtype explicitly to silence this warning.\n",
      "  pval = pd.Series(index=remainder) ## 변수의 p-value\n",
      "C:\\Users\\user\\anaconda3\\envs\\torch37\\lib\\site-packages\\statsmodels\\tsa\\tsatools.py:142: FutureWarning: In a future version of pandas all arguments of concat except for the argument 'objs' will be keyword-only\n",
      "  x = pd.concat(x[::order], 1)\n",
      "C:\\Users\\user\\anaconda3\\envs\\torch37\\lib\\site-packages\\statsmodels\\tsa\\tsatools.py:142: FutureWarning: In a future version of pandas all arguments of concat except for the argument 'objs' will be keyword-only\n",
      "  x = pd.concat(x[::order], 1)\n",
      "C:\\Users\\user\\anaconda3\\envs\\torch37\\lib\\site-packages\\statsmodels\\tsa\\tsatools.py:142: FutureWarning: In a future version of pandas all arguments of concat except for the argument 'objs' will be keyword-only\n",
      "  x = pd.concat(x[::order], 1)\n",
      "C:\\Users\\user\\anaconda3\\envs\\torch37\\lib\\site-packages\\statsmodels\\tsa\\tsatools.py:142: FutureWarning: In a future version of pandas all arguments of concat except for the argument 'objs' will be keyword-only\n",
      "  x = pd.concat(x[::order], 1)\n",
      "C:\\Users\\user\\anaconda3\\envs\\torch37\\lib\\site-packages\\statsmodels\\tsa\\tsatools.py:142: FutureWarning: In a future version of pandas all arguments of concat except for the argument 'objs' will be keyword-only\n",
      "  x = pd.concat(x[::order], 1)\n",
      "<ipython-input-161-5bf6fbdfbdf4>:17: DeprecationWarning: The default dtype for empty Series will be 'object' instead of 'float64' in a future version. Specify a dtype explicitly to silence this warning.\n",
      "  pval = pd.Series(index=remainder) ## 변수의 p-value\n",
      "C:\\Users\\user\\anaconda3\\envs\\torch37\\lib\\site-packages\\statsmodels\\tsa\\tsatools.py:142: FutureWarning: In a future version of pandas all arguments of concat except for the argument 'objs' will be keyword-only\n",
      "  x = pd.concat(x[::order], 1)\n",
      "C:\\Users\\user\\anaconda3\\envs\\torch37\\lib\\site-packages\\statsmodels\\tsa\\tsatools.py:142: FutureWarning: In a future version of pandas all arguments of concat except for the argument 'objs' will be keyword-only\n",
      "  x = pd.concat(x[::order], 1)\n",
      "C:\\Users\\user\\anaconda3\\envs\\torch37\\lib\\site-packages\\statsmodels\\tsa\\tsatools.py:142: FutureWarning: In a future version of pandas all arguments of concat except for the argument 'objs' will be keyword-only\n",
      "  x = pd.concat(x[::order], 1)\n",
      "C:\\Users\\user\\anaconda3\\envs\\torch37\\lib\\site-packages\\statsmodels\\tsa\\tsatools.py:142: FutureWarning: In a future version of pandas all arguments of concat except for the argument 'objs' will be keyword-only\n",
      "  x = pd.concat(x[::order], 1)\n",
      "<ipython-input-161-5bf6fbdfbdf4>:17: DeprecationWarning: The default dtype for empty Series will be 'object' instead of 'float64' in a future version. Specify a dtype explicitly to silence this warning.\n",
      "  pval = pd.Series(index=remainder) ## 변수의 p-value\n",
      "C:\\Users\\user\\anaconda3\\envs\\torch37\\lib\\site-packages\\statsmodels\\tsa\\tsatools.py:142: FutureWarning: In a future version of pandas all arguments of concat except for the argument 'objs' will be keyword-only\n",
      "  x = pd.concat(x[::order], 1)\n",
      "C:\\Users\\user\\anaconda3\\envs\\torch37\\lib\\site-packages\\statsmodels\\tsa\\tsatools.py:142: FutureWarning: In a future version of pandas all arguments of concat except for the argument 'objs' will be keyword-only\n",
      "  x = pd.concat(x[::order], 1)\n"
     ]
    }
   ],
   "source": [
    "import statsmodels.api as sm\n",
    "\n",
    "## 전진 선택법\n",
    "variables = df2.columns[:-1].tolist() ## 설명 변수 리스트\n",
    " \n",
    "y = df2['result'] ## 반응 변수\n",
    "selected_variables = [] ## 선택된 변수들\n",
    "sl_enter = 0.05\n",
    " \n",
    "sv_per_step = [] ## 각 스텝별로 선택된 변수들\n",
    "adjusted_r_squared = [] ## 각 스텝별 수정된 결정계수\n",
    "steps = [] ## 스텝\n",
    "step = 0\n",
    "\n",
    "while len(variables) > 0:\n",
    "    remainder = list(set(variables) - set(selected_variables))\n",
    "    pval = pd.Series(index=remainder) ## 변수의 p-value\n",
    "    ## 기존에 포함된 변수와 새로운 변수 하나씩 돌아가면서 \n",
    "    ## 선형 모형을 적합한다.\n",
    "    for col in remainder: \n",
    "        X = df2[selected_variables+[col]]\n",
    "        X = sm.add_constant(X)\n",
    "        model = sm.OLS(y,X).fit()\n",
    "        pval[col] = model.pvalues[col]\n",
    " \n",
    "    min_pval = pval.min()\n",
    "    if min_pval < sl_enter: ## 최소 p-value 값이 기준 값보다 작으면 포함\n",
    "        selected_variables.append(pval.idxmin())\n",
    "        \n",
    "        step += 1\n",
    "        steps.append(step)\n",
    "        adj_r_squared = sm.OLS(y,sm.add_constant(df2[selected_variables])).fit().rsquared_adj\n",
    "        adjusted_r_squared.append(adj_r_squared)\n",
    "        sv_per_step.append(selected_variables.copy())\n",
    "    else:\n",
    "        break"
   ]
  },
  {
   "cell_type": "code",
   "execution_count": 162,
   "metadata": {},
   "outputs": [
    {
     "data": {
      "text/plain": [
       "['수온(℃)', '분류', 'month', 'pH', '채수위치', 'Chl-a(㎎/㎥)', '지점명', 'year', 'DO(㎎/ℓ)']"
      ]
     },
     "execution_count": 162,
     "metadata": {},
     "output_type": "execute_result"
    }
   ],
   "source": [
    "selected_variables"
   ]
  },
  {
   "cell_type": "code",
   "execution_count": 163,
   "metadata": {},
   "outputs": [],
   "source": [
    "selected_variables.append('result')"
   ]
  },
  {
   "cell_type": "code",
   "execution_count": 165,
   "metadata": {},
   "outputs": [],
   "source": [
    "df4 = df2[selected_variables]"
   ]
  },
  {
   "cell_type": "code",
   "execution_count": 166,
   "metadata": {},
   "outputs": [
    {
     "data": {
      "text/html": [
       "<div>\n",
       "<style scoped>\n",
       "    .dataframe tbody tr th:only-of-type {\n",
       "        vertical-align: middle;\n",
       "    }\n",
       "\n",
       "    .dataframe tbody tr th {\n",
       "        vertical-align: top;\n",
       "    }\n",
       "\n",
       "    .dataframe thead th {\n",
       "        text-align: right;\n",
       "    }\n",
       "</style>\n",
       "<table border=\"1\" class=\"dataframe\">\n",
       "  <thead>\n",
       "    <tr style=\"text-align: right;\">\n",
       "      <th></th>\n",
       "      <th>수온(℃)</th>\n",
       "      <th>분류</th>\n",
       "      <th>month</th>\n",
       "      <th>pH</th>\n",
       "      <th>채수위치</th>\n",
       "      <th>Chl-a(㎎/㎥)</th>\n",
       "      <th>지점명</th>\n",
       "      <th>year</th>\n",
       "      <th>DO(㎎/ℓ)</th>\n",
       "      <th>result</th>\n",
       "    </tr>\n",
       "  </thead>\n",
       "  <tbody>\n",
       "    <tr>\n",
       "      <th>2</th>\n",
       "      <td>23.8</td>\n",
       "      <td>2</td>\n",
       "      <td>1</td>\n",
       "      <td>7.6</td>\n",
       "      <td>15</td>\n",
       "      <td>10.4</td>\n",
       "      <td>18</td>\n",
       "      <td>0</td>\n",
       "      <td>6.2</td>\n",
       "      <td>1</td>\n",
       "    </tr>\n",
       "    <tr>\n",
       "      <th>3</th>\n",
       "      <td>18.7</td>\n",
       "      <td>2</td>\n",
       "      <td>1</td>\n",
       "      <td>7.9</td>\n",
       "      <td>7</td>\n",
       "      <td>3.3</td>\n",
       "      <td>18</td>\n",
       "      <td>0</td>\n",
       "      <td>10.2</td>\n",
       "      <td>0</td>\n",
       "    </tr>\n",
       "    <tr>\n",
       "      <th>4</th>\n",
       "      <td>16.1</td>\n",
       "      <td>2</td>\n",
       "      <td>1</td>\n",
       "      <td>7.8</td>\n",
       "      <td>24</td>\n",
       "      <td>6.7</td>\n",
       "      <td>7</td>\n",
       "      <td>0</td>\n",
       "      <td>5.3</td>\n",
       "      <td>1</td>\n",
       "    </tr>\n",
       "    <tr>\n",
       "      <th>5</th>\n",
       "      <td>23.7</td>\n",
       "      <td>2</td>\n",
       "      <td>1</td>\n",
       "      <td>8.9</td>\n",
       "      <td>8</td>\n",
       "      <td>9.6</td>\n",
       "      <td>7</td>\n",
       "      <td>0</td>\n",
       "      <td>12.1</td>\n",
       "      <td>1</td>\n",
       "    </tr>\n",
       "    <tr>\n",
       "      <th>6</th>\n",
       "      <td>18.2</td>\n",
       "      <td>2</td>\n",
       "      <td>1</td>\n",
       "      <td>7.4</td>\n",
       "      <td>16</td>\n",
       "      <td>5.0</td>\n",
       "      <td>10</td>\n",
       "      <td>0</td>\n",
       "      <td>5.9</td>\n",
       "      <td>1</td>\n",
       "    </tr>\n",
       "  </tbody>\n",
       "</table>\n",
       "</div>"
      ],
      "text/plain": [
       "   수온(℃)  분류  month   pH  채수위치  Chl-a(㎎/㎥)  지점명  year  DO(㎎/ℓ)  result\n",
       "2   23.8   2      1  7.6    15        10.4   18     0      6.2       1\n",
       "3   18.7   2      1  7.9     7         3.3   18     0     10.2       0\n",
       "4   16.1   2      1  7.8    24         6.7    7     0      5.3       1\n",
       "5   23.7   2      1  8.9     8         9.6    7     0     12.1       1\n",
       "6   18.2   2      1  7.4    16         5.0   10     0      5.9       1"
      ]
     },
     "execution_count": 166,
     "metadata": {},
     "output_type": "execute_result"
    }
   ],
   "source": [
    "df4.head()"
   ]
  },
  {
   "cell_type": "code",
   "execution_count": 167,
   "metadata": {},
   "outputs": [],
   "source": [
    "y = df4['result']\n",
    "X = df4[df4.columns.difference(['result'])]\n",
    "\n",
    "X_train, X_test, y_train, y_test = train_test_split(X, y, test_size = 0.3, random_state = 42)"
   ]
  },
  {
   "cell_type": "code",
   "execution_count": 168,
   "metadata": {},
   "outputs": [],
   "source": [
    "y_pred = list()\n",
    "y_acc = list()\n",
    "\n",
    "DT_clf = tree.DecisionTreeClassifier()\n",
    "DT_clf = DT_clf.fit(X_train, y_train)\n",
    "\n",
    "SVM_clf = svm.SVC(kernel = \"rbf\")\n",
    "SVM_clf.fit(X_train, y_train)\n",
    "\n",
    "RF_clf = RandomForestClassifier(n_estimators=100)\n",
    "RF_clf.fit(X_train, y_train)\n",
    "\n",
    "KNN_clf = KNeighborsClassifier(n_neighbors=5)\n",
    "KNN_clf.fit(X_train, y_train)\n",
    "\n",
    "NB_clf = GaussianNB()\n",
    "NB_clf.fit(X_train, y_train)"
   ]
  },
  {
   "cell_type": "code",
   "execution_count": 168,
   "metadata": {},
   "outputs": [],
   "source": [
    "y_pred.append(DT_clf.predict(X_test))\n",
    "y_pred.append(SVM_clf.predict(X_test))\n",
    "y_pred.append(RF_clf.predict(X_test))\n",
    "y_pred.append(KNN_clf.predict(X_test))\n",
    "y_pred.append(NB_clf.predict(X_test))\n",
    "\n",
    "y_acc.append(DT_clf.score(X_test, y_test))\n",
    "y_acc.append(SVM_clf.score(X_test, y_test))\n",
    "y_acc.append(RF_clf.score(X_test, y_test))\n",
    "y_acc.append(KNN_clf.score(X_test, y_test))\n",
    "y_acc.append(NB_clf.score(X_test, y_test))"
   ]
  },
  {
   "cell_type": "code",
   "execution_count": 169,
   "metadata": {},
   "outputs": [
    {
     "data": {
      "text/plain": [
       "[0.6828721017202692,\n",
       " 0.6529543754674645,\n",
       " 0.7599102468212415,\n",
       " 0.6948391922213911,\n",
       " 0.5968586387434555]"
      ]
     },
     "execution_count": 169,
     "metadata": {},
     "output_type": "execute_result"
    }
   ],
   "source": [
    "y_acc"
   ]
  },
  {
   "cell_type": "markdown",
   "metadata": {},
   "source": [
    "### 5. 테스트"
   ]
  },
  {
   "cell_type": "code",
   "execution_count": 170,
   "metadata": {},
   "outputs": [
    {
     "data": {
      "text/html": [
       "<div>\n",
       "<style scoped>\n",
       "    .dataframe tbody tr th:only-of-type {\n",
       "        vertical-align: middle;\n",
       "    }\n",
       "\n",
       "    .dataframe tbody tr th {\n",
       "        vertical-align: top;\n",
       "    }\n",
       "\n",
       "    .dataframe thead th {\n",
       "        text-align: right;\n",
       "    }\n",
       "</style>\n",
       "<table border=\"1\" class=\"dataframe\">\n",
       "  <thead>\n",
       "    <tr style=\"text-align: right;\">\n",
       "      <th></th>\n",
       "      <th>수온(℃)</th>\n",
       "      <th>분류</th>\n",
       "      <th>month</th>\n",
       "      <th>pH</th>\n",
       "      <th>채수위치</th>\n",
       "      <th>Chl-a(㎎/㎥)</th>\n",
       "      <th>지점명</th>\n",
       "      <th>year</th>\n",
       "      <th>DO(㎎/ℓ)</th>\n",
       "      <th>result</th>\n",
       "    </tr>\n",
       "  </thead>\n",
       "  <tbody>\n",
       "    <tr>\n",
       "      <th>2</th>\n",
       "      <td>23.8</td>\n",
       "      <td>2</td>\n",
       "      <td>1</td>\n",
       "      <td>7.6</td>\n",
       "      <td>15</td>\n",
       "      <td>10.4</td>\n",
       "      <td>18</td>\n",
       "      <td>0</td>\n",
       "      <td>6.2</td>\n",
       "      <td>1</td>\n",
       "    </tr>\n",
       "    <tr>\n",
       "      <th>3</th>\n",
       "      <td>18.7</td>\n",
       "      <td>2</td>\n",
       "      <td>1</td>\n",
       "      <td>7.9</td>\n",
       "      <td>7</td>\n",
       "      <td>3.3</td>\n",
       "      <td>18</td>\n",
       "      <td>0</td>\n",
       "      <td>10.2</td>\n",
       "      <td>0</td>\n",
       "    </tr>\n",
       "    <tr>\n",
       "      <th>4</th>\n",
       "      <td>16.1</td>\n",
       "      <td>2</td>\n",
       "      <td>1</td>\n",
       "      <td>7.8</td>\n",
       "      <td>24</td>\n",
       "      <td>6.7</td>\n",
       "      <td>7</td>\n",
       "      <td>0</td>\n",
       "      <td>5.3</td>\n",
       "      <td>1</td>\n",
       "    </tr>\n",
       "    <tr>\n",
       "      <th>5</th>\n",
       "      <td>23.7</td>\n",
       "      <td>2</td>\n",
       "      <td>1</td>\n",
       "      <td>8.9</td>\n",
       "      <td>8</td>\n",
       "      <td>9.6</td>\n",
       "      <td>7</td>\n",
       "      <td>0</td>\n",
       "      <td>12.1</td>\n",
       "      <td>1</td>\n",
       "    </tr>\n",
       "    <tr>\n",
       "      <th>6</th>\n",
       "      <td>18.2</td>\n",
       "      <td>2</td>\n",
       "      <td>1</td>\n",
       "      <td>7.4</td>\n",
       "      <td>16</td>\n",
       "      <td>5.0</td>\n",
       "      <td>10</td>\n",
       "      <td>0</td>\n",
       "      <td>5.9</td>\n",
       "      <td>1</td>\n",
       "    </tr>\n",
       "  </tbody>\n",
       "</table>\n",
       "</div>"
      ],
      "text/plain": [
       "   수온(℃)  분류  month   pH  채수위치  Chl-a(㎎/㎥)  지점명  year  DO(㎎/ℓ)  result\n",
       "2   23.8   2      1  7.6    15        10.4   18     0      6.2       1\n",
       "3   18.7   2      1  7.9     7         3.3   18     0     10.2       0\n",
       "4   16.1   2      1  7.8    24         6.7    7     0      5.3       1\n",
       "5   23.7   2      1  8.9     8         9.6    7     0     12.1       1\n",
       "6   18.2   2      1  7.4    16         5.0   10     0      5.9       1"
      ]
     },
     "execution_count": 170,
     "metadata": {},
     "output_type": "execute_result"
    }
   ],
   "source": [
    "df4.head()"
   ]
  },
  {
   "cell_type": "code",
   "execution_count": 172,
   "metadata": {},
   "outputs": [
    {
     "data": {
      "text/html": [
       "<div>\n",
       "<style scoped>\n",
       "    .dataframe tbody tr th:only-of-type {\n",
       "        vertical-align: middle;\n",
       "    }\n",
       "\n",
       "    .dataframe tbody tr th {\n",
       "        vertical-align: top;\n",
       "    }\n",
       "\n",
       "    .dataframe thead th {\n",
       "        text-align: right;\n",
       "    }\n",
       "</style>\n",
       "<table border=\"1\" class=\"dataframe\">\n",
       "  <thead>\n",
       "    <tr style=\"text-align: right;\">\n",
       "      <th></th>\n",
       "      <th>Chl-a(㎎/㎥)</th>\n",
       "      <th>DO(㎎/ℓ)</th>\n",
       "      <th>month</th>\n",
       "      <th>pH</th>\n",
       "      <th>year</th>\n",
       "      <th>분류</th>\n",
       "      <th>수온(℃)</th>\n",
       "      <th>지점명</th>\n",
       "      <th>채수위치</th>\n",
       "    </tr>\n",
       "  </thead>\n",
       "  <tbody>\n",
       "    <tr>\n",
       "      <th>2857</th>\n",
       "      <td>5.2</td>\n",
       "      <td>7.1</td>\n",
       "      <td>1</td>\n",
       "      <td>7.6</td>\n",
       "      <td>2</td>\n",
       "      <td>1</td>\n",
       "      <td>25.9</td>\n",
       "      <td>5</td>\n",
       "      <td>23</td>\n",
       "    </tr>\n",
       "    <tr>\n",
       "      <th>695</th>\n",
       "      <td>1.5</td>\n",
       "      <td>8.6</td>\n",
       "      <td>0</td>\n",
       "      <td>7.5</td>\n",
       "      <td>2</td>\n",
       "      <td>2</td>\n",
       "      <td>11.6</td>\n",
       "      <td>7</td>\n",
       "      <td>24</td>\n",
       "    </tr>\n",
       "    <tr>\n",
       "      <th>1431</th>\n",
       "      <td>0.6</td>\n",
       "      <td>8.4</td>\n",
       "      <td>2</td>\n",
       "      <td>6.8</td>\n",
       "      <td>0</td>\n",
       "      <td>2</td>\n",
       "      <td>13.7</td>\n",
       "      <td>14</td>\n",
       "      <td>7</td>\n",
       "    </tr>\n",
       "    <tr>\n",
       "      <th>1202</th>\n",
       "      <td>3.4</td>\n",
       "      <td>5.9</td>\n",
       "      <td>1</td>\n",
       "      <td>7.1</td>\n",
       "      <td>0</td>\n",
       "      <td>2</td>\n",
       "      <td>17.9</td>\n",
       "      <td>14</td>\n",
       "      <td>7</td>\n",
       "    </tr>\n",
       "    <tr>\n",
       "      <th>3917</th>\n",
       "      <td>23.3</td>\n",
       "      <td>15.0</td>\n",
       "      <td>3</td>\n",
       "      <td>8.1</td>\n",
       "      <td>1</td>\n",
       "      <td>1</td>\n",
       "      <td>4.0</td>\n",
       "      <td>5</td>\n",
       "      <td>0</td>\n",
       "    </tr>\n",
       "  </tbody>\n",
       "</table>\n",
       "</div>"
      ],
      "text/plain": [
       "      Chl-a(㎎/㎥)  DO(㎎/ℓ)  month   pH  year  분류  수온(℃)  지점명  채수위치\n",
       "2857         5.2      7.1      1  7.6     2   1   25.9    5    23\n",
       "695          1.5      8.6      0  7.5     2   2   11.6    7    24\n",
       "1431         0.6      8.4      2  6.8     0   2   13.7   14     7\n",
       "1202         3.4      5.9      1  7.1     0   2   17.9   14     7\n",
       "3917        23.3     15.0      3  8.1     1   1    4.0    5     0"
      ]
     },
     "execution_count": 172,
     "metadata": {},
     "output_type": "execute_result"
    }
   ],
   "source": [
    "X_test.head()"
   ]
  },
  {
   "cell_type": "code",
   "execution_count": 230,
   "metadata": {},
   "outputs": [],
   "source": [
    "new_value = \"0 1 3 7.0 1 5.0 1 1 7.0 1\"\n",
    "new_value = new_value.split()"
   ]
  },
  {
   "cell_type": "code",
   "execution_count": 232,
   "metadata": {},
   "outputs": [],
   "source": [
    "columns = \"수온(℃)\t분류\tmonth\tpH\t채수위치\tChl-a(㎎/㎥)\t지점명\tyear\tDO(㎎/ℓ)\tresult\"\n",
    "columns = columns.split()"
   ]
  },
  {
   "cell_type": "code",
   "execution_count": 234,
   "metadata": {},
   "outputs": [],
   "source": [
    "new_dict = dict(zip(columns, new_value))"
   ]
  },
  {
   "cell_type": "code",
   "execution_count": 235,
   "metadata": {},
   "outputs": [
    {
     "data": {
      "text/plain": [
       "{'수온(℃)': '0',\n",
       " '분류': '1',\n",
       " 'month': '3',\n",
       " 'pH': '7.0',\n",
       " '채수위치': '1',\n",
       " 'Chl-a(㎎/㎥)': '5.0',\n",
       " '지점명': '1',\n",
       " 'year': '1',\n",
       " 'DO(㎎/ℓ)': '7.0',\n",
       " 'result': '1'}"
      ]
     },
     "execution_count": 235,
     "metadata": {},
     "output_type": "execute_result"
    }
   ],
   "source": [
    "new_dict"
   ]
  },
  {
   "cell_type": "code",
   "execution_count": 236,
   "metadata": {},
   "outputs": [
    {
     "data": {
      "text/html": [
       "<div>\n",
       "<style scoped>\n",
       "    .dataframe tbody tr th:only-of-type {\n",
       "        vertical-align: middle;\n",
       "    }\n",
       "\n",
       "    .dataframe tbody tr th {\n",
       "        vertical-align: top;\n",
       "    }\n",
       "\n",
       "    .dataframe thead th {\n",
       "        text-align: right;\n",
       "    }\n",
       "</style>\n",
       "<table border=\"1\" class=\"dataframe\">\n",
       "  <thead>\n",
       "    <tr style=\"text-align: right;\">\n",
       "      <th></th>\n",
       "      <th>수온(℃)</th>\n",
       "      <th>분류</th>\n",
       "      <th>month</th>\n",
       "      <th>pH</th>\n",
       "      <th>채수위치</th>\n",
       "      <th>Chl-a(㎎/㎥)</th>\n",
       "      <th>지점명</th>\n",
       "      <th>year</th>\n",
       "      <th>DO(㎎/ℓ)</th>\n",
       "      <th>result</th>\n",
       "    </tr>\n",
       "  </thead>\n",
       "  <tbody>\n",
       "    <tr>\n",
       "      <th>0</th>\n",
       "      <td>0</td>\n",
       "      <td>1</td>\n",
       "      <td>3</td>\n",
       "      <td>7.0</td>\n",
       "      <td>1</td>\n",
       "      <td>5.0</td>\n",
       "      <td>1</td>\n",
       "      <td>1</td>\n",
       "      <td>7.0</td>\n",
       "      <td>1</td>\n",
       "    </tr>\n",
       "  </tbody>\n",
       "</table>\n",
       "</div>"
      ],
      "text/plain": [
       "  수온(℃) 분류 month   pH 채수위치 Chl-a(㎎/㎥) 지점명 year DO(㎎/ℓ) result\n",
       "0     0  1     3  7.0    1        5.0   1    1     7.0      1"
      ]
     },
     "execution_count": 236,
     "metadata": {},
     "output_type": "execute_result"
    }
   ],
   "source": [
    "new_df = pd.DataFrame([new_dict])\n",
    "new_df"
   ]
  },
  {
   "cell_type": "code",
   "execution_count": 237,
   "metadata": {},
   "outputs": [],
   "source": [
    "test = new_df[new_df.columns.difference(['result'])]"
   ]
  },
  {
   "cell_type": "code",
   "execution_count": 238,
   "metadata": {},
   "outputs": [
    {
     "data": {
      "text/html": [
       "<div>\n",
       "<style scoped>\n",
       "    .dataframe tbody tr th:only-of-type {\n",
       "        vertical-align: middle;\n",
       "    }\n",
       "\n",
       "    .dataframe tbody tr th {\n",
       "        vertical-align: top;\n",
       "    }\n",
       "\n",
       "    .dataframe thead th {\n",
       "        text-align: right;\n",
       "    }\n",
       "</style>\n",
       "<table border=\"1\" class=\"dataframe\">\n",
       "  <thead>\n",
       "    <tr style=\"text-align: right;\">\n",
       "      <th></th>\n",
       "      <th>Chl-a(㎎/㎥)</th>\n",
       "      <th>DO(㎎/ℓ)</th>\n",
       "      <th>month</th>\n",
       "      <th>pH</th>\n",
       "      <th>year</th>\n",
       "      <th>분류</th>\n",
       "      <th>수온(℃)</th>\n",
       "      <th>지점명</th>\n",
       "      <th>채수위치</th>\n",
       "    </tr>\n",
       "  </thead>\n",
       "  <tbody>\n",
       "    <tr>\n",
       "      <th>0</th>\n",
       "      <td>5.0</td>\n",
       "      <td>7.0</td>\n",
       "      <td>3</td>\n",
       "      <td>7.0</td>\n",
       "      <td>1</td>\n",
       "      <td>1</td>\n",
       "      <td>0</td>\n",
       "      <td>1</td>\n",
       "      <td>1</td>\n",
       "    </tr>\n",
       "  </tbody>\n",
       "</table>\n",
       "</div>"
      ],
      "text/plain": [
       "  Chl-a(㎎/㎥) DO(㎎/ℓ) month   pH year 분류 수온(℃) 지점명 채수위치\n",
       "0        5.0     7.0     3  7.0    1  1     0   1    1"
      ]
     },
     "execution_count": 238,
     "metadata": {},
     "output_type": "execute_result"
    }
   ],
   "source": [
    "test"
   ]
  },
  {
   "cell_type": "code",
   "execution_count": 241,
   "metadata": {},
   "outputs": [],
   "source": [
    "y_pred2 = list()\n",
    "\n",
    "# y_pred2.append(DT_clf.predict(test))\n",
    "# y_pred2.append(SVM_clf.predict(test))\n",
    "y_pred2.append(RF_clf.predict(test))\n",
    "# y_pred2.append(KNN_clf.predict(test))\n",
    "# y_pred2.append(NB_clf.predict(test))"
   ]
  },
  {
   "cell_type": "code",
   "execution_count": 242,
   "metadata": {},
   "outputs": [
    {
     "data": {
      "text/plain": [
       "[array([0], dtype=int64)]"
      ]
     },
     "execution_count": 242,
     "metadata": {},
     "output_type": "execute_result"
    }
   ],
   "source": [
    "y_pred2"
   ]
  },
  {
   "cell_type": "markdown",
   "metadata": {},
   "source": [
    "### 6. 테스트 예측 모델"
   ]
  },
  {
   "cell_type": "code",
   "execution_count": 262,
   "metadata": {},
   "outputs": [],
   "source": [
    "columns = \"수온(℃)\t분류\tmonth\tpH\t채수위치\tChl-a(㎎/㎥)\t지점명\tyear\tDO(㎎/ℓ)\tresult\"\n",
    "columns = columns.split()\n",
    "new_value = \"0 1 3 7.0 1 5.0 1 1 7.0 1\"\n",
    "new_value = new_value.split()"
   ]
  },
  {
   "cell_type": "code",
   "execution_count": 263,
   "metadata": {},
   "outputs": [],
   "source": [
    "new_dict = dict(zip(columns, new_value))\n",
    "new_df = pd.DataFrame([new_dict])\n",
    "test = new_df[new_df.columns.difference(['result'])]"
   ]
  },
  {
   "cell_type": "code",
   "execution_count": 264,
   "metadata": {},
   "outputs": [
    {
     "data": {
      "text/plain": [
       "0"
      ]
     },
     "execution_count": 264,
     "metadata": {},
     "output_type": "execute_result"
    }
   ],
   "source": [
    "RF_clf.predict(test)[0]"
   ]
  },
  {
   "cell_type": "code",
   "execution_count": null,
   "metadata": {},
   "outputs": [],
   "source": []
  }
 ],
 "metadata": {
  "colab": {
   "collapsed_sections": [],
   "name": "waterProject.ipynb",
   "provenance": []
  },
  "kernelspec": {
   "display_name": "Python 3",
   "language": "python",
   "name": "python3"
  },
  "language_info": {
   "codemirror_mode": {
    "name": "ipython",
    "version": 3
   },
   "file_extension": ".py",
   "mimetype": "text/x-python",
   "name": "python",
   "nbconvert_exporter": "python",
   "pygments_lexer": "ipython3",
   "version": "3.8.10"
  }
 },
 "nbformat": 4,
 "nbformat_minor": 4
}
